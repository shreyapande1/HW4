{
 "cells": [
  {
   "cell_type": "markdown",
   "metadata": {
    "id": "Yq0XoVUIVNLC"
   },
   "source": [
    "# Homework 4"
   ]
  },
  {
   "cell_type": "markdown",
   "metadata": {
    "id": "0aqF485OxR-U"
   },
   "source": [
    "**Before you start:** Read Chapter 6 Linear Regression and Chapter 7 K-Nearst-Neighbors in the textbook.\n",
    "\n",
    "**Note:** Please enter the code along with your comments in the **TODO** section.\n",
    "\n",
    "Alternative solutions are welcomed."
   ]
  },
  {
   "cell_type": "markdown",
   "metadata": {},
   "source": [
    "# Submitted By:\n",
    "    Group 17:\n",
    "    Shreya Pande\n",
    "    Siddharth Banyal"
   ]
  },
  {
   "cell_type": "markdown",
   "metadata": {
    "id": "QkMxpyKOxR-L"
   },
   "source": [
    "## Part 1: Linear Regression"
   ]
  },
  {
   "cell_type": "markdown",
   "metadata": {
    "id": "3IKYRqKtxR-N"
   },
   "source": [
    "### Problem 1 ##"
   ]
  },
  {
   "cell_type": "markdown",
   "metadata": {
    "id": "H8fENJRPk7P7"
   },
   "source": [
    "In this problem, you are expected to build a model to predict the Boston housing price.\n"
   ]
  },
  {
   "cell_type": "code",
   "execution_count": 1,
   "metadata": {
    "colab": {
     "base_uri": "https://localhost:8080/"
    },
    "id": "0J9ra7d4rXb6",
    "outputId": "caaddaa0-a26d-47a9-c2f8-7cfac45a8c49"
   },
   "outputs": [
    {
     "name": "stdout",
     "output_type": "stream",
     "text": [
      "Requirement already satisfied: openpyxl in c:\\users\\shreya pande\\anaconda3\\lib\\site-packages (3.1.2)\n",
      "Requirement already satisfied: et-xmlfile in c:\\users\\shreya pande\\anaconda3\\lib\\site-packages (from openpyxl) (1.1.0)\n"
     ]
    }
   ],
   "source": [
    "# # Please remove # and run the following code if you have an error while importing the dataset\n",
    "!pip install --upgrade openpyxl"
   ]
  },
  {
   "cell_type": "code",
   "execution_count": 2,
   "metadata": {
    "id": "-aISISDbDVKG"
   },
   "outputs": [],
   "source": [
    "from sklearn import datasets\n",
    "import pandas as pd\n",
    "import numpy as np\n",
    "import seaborn as sns\n",
    "import matplotlib.pyplot as plt\n",
    "np.set_printoptions(suppress=True)\n",
    "import sklearn"
   ]
  },
  {
   "cell_type": "code",
   "execution_count": 3,
   "metadata": {},
   "outputs": [],
   "source": [
    "# Importing other required libraries\n",
    "from sklearn import datasets, linear_model\n",
    "from sklearn.linear_model import LinearRegression\n",
    "from sklearn.linear_model import Lasso\n",
    "from sklearn.metrics import mean_squared_error, r2_score"
   ]
  },
  {
   "cell_type": "code",
   "execution_count": 4,
   "metadata": {
    "colab": {
     "base_uri": "https://localhost:8080/",
     "height": 1000
    },
    "id": "2i3RflfbbrPA",
    "outputId": "ffa07e7c-37aa-443d-b5ee-f85a60a64a6c"
   },
   "outputs": [
    {
     "name": "stdout",
     "output_type": "stream",
     "text": [
      ".. _boston_dataset:\n",
      "\n",
      "Boston house prices dataset\n",
      "---------------------------\n",
      "\n",
      "**Data Set Characteristics:**  \n",
      "\n",
      "    :Number of Instances: 506 \n",
      "\n",
      "    :Number of Attributes: 13 numeric/categorical predictive. Median Value (attribute 14) is usually the target.\n",
      "\n",
      "    :Attribute Information (in order):\n",
      "        - CRIM     per capita crime rate by town\n",
      "        - ZN       proportion of residential land zoned for lots over 25,000 sq.ft.\n",
      "        - INDUS    proportion of non-retail business acres per town\n",
      "        - CHAS     Charles River dummy variable (= 1 if tract bounds river; 0 otherwise)\n",
      "        - NOX      nitric oxides concentration (parts per 10 million)\n",
      "        - RM       average number of rooms per dwelling\n",
      "        - AGE      proportion of owner-occupied units built prior to 1940\n",
      "        - DIS      weighted distances to five Boston employment centres\n",
      "        - RAD      index of accessibility to radial highways\n",
      "        - TAX      full-value property-tax rate per $10,000\n",
      "        - PTRATIO  pupil-teacher ratio by town\n",
      "        - B        1000(Bk - 0.63)^2 where Bk is the proportion of black people by town\n",
      "        - LSTAT    % lower status of the population\n",
      "        - MEDV     Median value of owner-occupied homes in $1000's\n",
      "\n",
      "    :Missing Attribute Values: None\n",
      "\n",
      "    :Creator: Harrison, D. and Rubinfeld, D.L.\n",
      "\n",
      "This is a copy of UCI ML housing dataset.\n",
      "https://archive.ics.uci.edu/ml/machine-learning-databases/housing/\n",
      "\n",
      "\n",
      "This dataset was taken from the StatLib library which is maintained at Carnegie Mellon University.\n",
      "\n",
      "The Boston house-price data of Harrison, D. and Rubinfeld, D.L. 'Hedonic\n",
      "prices and the demand for clean air', J. Environ. Economics & Management,\n",
      "vol.5, 81-102, 1978.   Used in Belsley, Kuh & Welsch, 'Regression diagnostics\n",
      "...', Wiley, 1980.   N.B. Various transformations are used in the table on\n",
      "pages 244-261 of the latter.\n",
      "\n",
      "The Boston house-price data has been used in many machine learning papers that address regression\n",
      "problems.   \n",
      "     \n",
      ".. topic:: References\n",
      "\n",
      "   - Belsley, Kuh & Welsch, 'Regression diagnostics: Identifying Influential Data and Sources of Collinearity', Wiley, 1980. 244-261.\n",
      "   - Quinlan,R. (1993). Combining Instance-Based and Model-Based Learning. In Proceedings on the Tenth International Conference of Machine Learning, 236-243, University of Massachusetts, Amherst. Morgan Kaufmann.\n",
      "\n"
     ]
    },
    {
     "name": "stderr",
     "output_type": "stream",
     "text": [
      "C:\\Users\\Shreya Pande\\anaconda3\\lib\\site-packages\\sklearn\\utils\\deprecation.py:87: FutureWarning: Function load_boston is deprecated; `load_boston` is deprecated in 1.0 and will be removed in 1.2.\n",
      "\n",
      "    The Boston housing prices dataset has an ethical problem. You can refer to\n",
      "    the documentation of this function for further details.\n",
      "\n",
      "    The scikit-learn maintainers therefore strongly discourage the use of this\n",
      "    dataset unless the purpose of the code is to study and educate about\n",
      "    ethical issues in data science and machine learning.\n",
      "\n",
      "    In this special case, you can fetch the dataset from the original\n",
      "    source::\n",
      "\n",
      "        import pandas as pd\n",
      "        import numpy as np\n",
      "\n",
      "\n",
      "        data_url = \"http://lib.stat.cmu.edu/datasets/boston\"\n",
      "        raw_df = pd.read_csv(data_url, sep=\"\\s+\", skiprows=22, header=None)\n",
      "        data = np.hstack([raw_df.values[::2, :], raw_df.values[1::2, :2]])\n",
      "        target = raw_df.values[1::2, 2]\n",
      "\n",
      "    Alternative datasets include the California housing dataset (i.e.\n",
      "    :func:`~sklearn.datasets.fetch_california_housing`) and the Ames housing\n",
      "    dataset. You can load the datasets as follows::\n",
      "\n",
      "        from sklearn.datasets import fetch_california_housing\n",
      "        housing = fetch_california_housing()\n",
      "\n",
      "    for the California housing dataset and::\n",
      "\n",
      "        from sklearn.datasets import fetch_openml\n",
      "        housing = fetch_openml(name=\"house_prices\", as_frame=True)\n",
      "\n",
      "    for the Ames housing dataset.\n",
      "    \n",
      "  warnings.warn(msg, category=FutureWarning)\n"
     ]
    }
   ],
   "source": [
    "print(sklearn.datasets.load_boston().DESCR)"
   ]
  },
  {
   "cell_type": "code",
   "execution_count": 5,
   "metadata": {
    "colab": {
     "base_uri": "https://localhost:8080/",
     "height": 1000
    },
    "id": "vp1m53zhwdu2",
    "outputId": "8139a55f-6a26-45c2-a122-406470cddbc0",
    "scrolled": true
   },
   "outputs": [],
   "source": [
    "#Load boston housing dataset\n",
    "boston_housing = datasets.load_boston()\n",
    "X = pd.DataFrame(boston_housing['data'], columns = boston_housing['feature_names'])\n",
    "\n",
    "#\"target\" is the response variable \n",
    "# which represents the median value of owner-occupied homes in $1000\n",
    "y = boston_housing['target']"
   ]
  },
  {
   "cell_type": "code",
   "execution_count": 6,
   "metadata": {
    "id": "koZ7LZPkZ5bq"
   },
   "outputs": [],
   "source": [
    "data = X\n",
    "data['target'] = y"
   ]
  },
  {
   "cell_type": "code",
   "execution_count": 7,
   "metadata": {
    "colab": {
     "base_uri": "https://localhost:8080/",
     "height": 204
    },
    "id": "X1ki8-fqZ_Sc",
    "outputId": "f0c4f26c-b438-4340-f84c-760ce78395ec"
   },
   "outputs": [
    {
     "data": {
      "text/html": [
       "<div>\n",
       "<style scoped>\n",
       "    .dataframe tbody tr th:only-of-type {\n",
       "        vertical-align: middle;\n",
       "    }\n",
       "\n",
       "    .dataframe tbody tr th {\n",
       "        vertical-align: top;\n",
       "    }\n",
       "\n",
       "    .dataframe thead th {\n",
       "        text-align: right;\n",
       "    }\n",
       "</style>\n",
       "<table border=\"1\" class=\"dataframe\">\n",
       "  <thead>\n",
       "    <tr style=\"text-align: right;\">\n",
       "      <th></th>\n",
       "      <th>CRIM</th>\n",
       "      <th>ZN</th>\n",
       "      <th>INDUS</th>\n",
       "      <th>CHAS</th>\n",
       "      <th>NOX</th>\n",
       "      <th>RM</th>\n",
       "      <th>AGE</th>\n",
       "      <th>DIS</th>\n",
       "      <th>RAD</th>\n",
       "      <th>TAX</th>\n",
       "      <th>PTRATIO</th>\n",
       "      <th>B</th>\n",
       "      <th>LSTAT</th>\n",
       "      <th>target</th>\n",
       "    </tr>\n",
       "  </thead>\n",
       "  <tbody>\n",
       "    <tr>\n",
       "      <th>0</th>\n",
       "      <td>0.00632</td>\n",
       "      <td>18.0</td>\n",
       "      <td>2.31</td>\n",
       "      <td>0.0</td>\n",
       "      <td>0.538</td>\n",
       "      <td>6.575</td>\n",
       "      <td>65.2</td>\n",
       "      <td>4.0900</td>\n",
       "      <td>1.0</td>\n",
       "      <td>296.0</td>\n",
       "      <td>15.3</td>\n",
       "      <td>396.90</td>\n",
       "      <td>4.98</td>\n",
       "      <td>24.0</td>\n",
       "    </tr>\n",
       "    <tr>\n",
       "      <th>1</th>\n",
       "      <td>0.02731</td>\n",
       "      <td>0.0</td>\n",
       "      <td>7.07</td>\n",
       "      <td>0.0</td>\n",
       "      <td>0.469</td>\n",
       "      <td>6.421</td>\n",
       "      <td>78.9</td>\n",
       "      <td>4.9671</td>\n",
       "      <td>2.0</td>\n",
       "      <td>242.0</td>\n",
       "      <td>17.8</td>\n",
       "      <td>396.90</td>\n",
       "      <td>9.14</td>\n",
       "      <td>21.6</td>\n",
       "    </tr>\n",
       "    <tr>\n",
       "      <th>2</th>\n",
       "      <td>0.02729</td>\n",
       "      <td>0.0</td>\n",
       "      <td>7.07</td>\n",
       "      <td>0.0</td>\n",
       "      <td>0.469</td>\n",
       "      <td>7.185</td>\n",
       "      <td>61.1</td>\n",
       "      <td>4.9671</td>\n",
       "      <td>2.0</td>\n",
       "      <td>242.0</td>\n",
       "      <td>17.8</td>\n",
       "      <td>392.83</td>\n",
       "      <td>4.03</td>\n",
       "      <td>34.7</td>\n",
       "    </tr>\n",
       "    <tr>\n",
       "      <th>3</th>\n",
       "      <td>0.03237</td>\n",
       "      <td>0.0</td>\n",
       "      <td>2.18</td>\n",
       "      <td>0.0</td>\n",
       "      <td>0.458</td>\n",
       "      <td>6.998</td>\n",
       "      <td>45.8</td>\n",
       "      <td>6.0622</td>\n",
       "      <td>3.0</td>\n",
       "      <td>222.0</td>\n",
       "      <td>18.7</td>\n",
       "      <td>394.63</td>\n",
       "      <td>2.94</td>\n",
       "      <td>33.4</td>\n",
       "    </tr>\n",
       "    <tr>\n",
       "      <th>4</th>\n",
       "      <td>0.06905</td>\n",
       "      <td>0.0</td>\n",
       "      <td>2.18</td>\n",
       "      <td>0.0</td>\n",
       "      <td>0.458</td>\n",
       "      <td>7.147</td>\n",
       "      <td>54.2</td>\n",
       "      <td>6.0622</td>\n",
       "      <td>3.0</td>\n",
       "      <td>222.0</td>\n",
       "      <td>18.7</td>\n",
       "      <td>396.90</td>\n",
       "      <td>5.33</td>\n",
       "      <td>36.2</td>\n",
       "    </tr>\n",
       "  </tbody>\n",
       "</table>\n",
       "</div>"
      ],
      "text/plain": [
       "      CRIM    ZN  INDUS  CHAS    NOX     RM   AGE     DIS  RAD    TAX  \\\n",
       "0  0.00632  18.0   2.31   0.0  0.538  6.575  65.2  4.0900  1.0  296.0   \n",
       "1  0.02731   0.0   7.07   0.0  0.469  6.421  78.9  4.9671  2.0  242.0   \n",
       "2  0.02729   0.0   7.07   0.0  0.469  7.185  61.1  4.9671  2.0  242.0   \n",
       "3  0.03237   0.0   2.18   0.0  0.458  6.998  45.8  6.0622  3.0  222.0   \n",
       "4  0.06905   0.0   2.18   0.0  0.458  7.147  54.2  6.0622  3.0  222.0   \n",
       "\n",
       "   PTRATIO       B  LSTAT  target  \n",
       "0     15.3  396.90   4.98    24.0  \n",
       "1     17.8  396.90   9.14    21.6  \n",
       "2     17.8  392.83   4.03    34.7  \n",
       "3     18.7  394.63   2.94    33.4  \n",
       "4     18.7  396.90   5.33    36.2  "
      ]
     },
     "execution_count": 7,
     "metadata": {},
     "output_type": "execute_result"
    }
   ],
   "source": [
    "data.head() "
   ]
  },
  {
   "cell_type": "markdown",
   "metadata": {
    "id": "UqSYZZH6Bwfh"
   },
   "source": [
    "**Note:** You do not need to standardize data for this question. "
   ]
  },
  {
   "cell_type": "markdown",
   "metadata": {
    "id": "orhex-OXhkgV"
   },
   "source": [
    "\n",
    "**TODO 1**\n",
    "\n",
    "Prevent collinearity by removing linearly dependent variables. \n",
    "\n",
    "For example, if 2 variables A and B have a correlation coefficient larger than 0.9, eliminate one to avoid redundency."
   ]
  },
  {
   "cell_type": "code",
   "execution_count": 8,
   "metadata": {
    "id": "HciIg1g4jE_a"
   },
   "outputs": [],
   "source": [
    "df = data.copy()"
   ]
  },
  {
   "cell_type": "code",
   "execution_count": 9,
   "metadata": {},
   "outputs": [
    {
     "name": "stderr",
     "output_type": "stream",
     "text": [
      "C:\\Users\\Shreya Pande\\AppData\\Local\\Temp\\ipykernel_19048\\2032803599.py:4: DeprecationWarning: `np.bool` is a deprecated alias for the builtin `bool`. To silence this warning, use `bool` by itself. Doing this will not modify any behavior and is safe. If you specifically wanted the numpy scalar type, use `np.bool_` here.\n",
      "Deprecated in NumPy 1.20; for more details and guidance: https://numpy.org/devdocs/release/1.20.0-notes.html#deprecations\n",
      "  upper = corr_matrix.where(np.triu(np.ones(corr_matrix.shape), k=1).astype(np.bool))\n"
     ]
    },
    {
     "data": {
      "text/html": [
       "<div>\n",
       "<style scoped>\n",
       "    .dataframe tbody tr th:only-of-type {\n",
       "        vertical-align: middle;\n",
       "    }\n",
       "\n",
       "    .dataframe tbody tr th {\n",
       "        vertical-align: top;\n",
       "    }\n",
       "\n",
       "    .dataframe thead th {\n",
       "        text-align: right;\n",
       "    }\n",
       "</style>\n",
       "<table border=\"1\" class=\"dataframe\">\n",
       "  <thead>\n",
       "    <tr style=\"text-align: right;\">\n",
       "      <th></th>\n",
       "      <th>CRIM</th>\n",
       "      <th>ZN</th>\n",
       "      <th>INDUS</th>\n",
       "      <th>CHAS</th>\n",
       "      <th>NOX</th>\n",
       "      <th>RM</th>\n",
       "      <th>AGE</th>\n",
       "      <th>DIS</th>\n",
       "      <th>RAD</th>\n",
       "      <th>PTRATIO</th>\n",
       "      <th>B</th>\n",
       "      <th>LSTAT</th>\n",
       "      <th>target</th>\n",
       "    </tr>\n",
       "  </thead>\n",
       "  <tbody>\n",
       "    <tr>\n",
       "      <th>0</th>\n",
       "      <td>0.00632</td>\n",
       "      <td>18.0</td>\n",
       "      <td>2.31</td>\n",
       "      <td>0.0</td>\n",
       "      <td>0.538</td>\n",
       "      <td>6.575</td>\n",
       "      <td>65.2</td>\n",
       "      <td>4.0900</td>\n",
       "      <td>1.0</td>\n",
       "      <td>15.3</td>\n",
       "      <td>396.90</td>\n",
       "      <td>4.98</td>\n",
       "      <td>24.0</td>\n",
       "    </tr>\n",
       "    <tr>\n",
       "      <th>1</th>\n",
       "      <td>0.02731</td>\n",
       "      <td>0.0</td>\n",
       "      <td>7.07</td>\n",
       "      <td>0.0</td>\n",
       "      <td>0.469</td>\n",
       "      <td>6.421</td>\n",
       "      <td>78.9</td>\n",
       "      <td>4.9671</td>\n",
       "      <td>2.0</td>\n",
       "      <td>17.8</td>\n",
       "      <td>396.90</td>\n",
       "      <td>9.14</td>\n",
       "      <td>21.6</td>\n",
       "    </tr>\n",
       "    <tr>\n",
       "      <th>2</th>\n",
       "      <td>0.02729</td>\n",
       "      <td>0.0</td>\n",
       "      <td>7.07</td>\n",
       "      <td>0.0</td>\n",
       "      <td>0.469</td>\n",
       "      <td>7.185</td>\n",
       "      <td>61.1</td>\n",
       "      <td>4.9671</td>\n",
       "      <td>2.0</td>\n",
       "      <td>17.8</td>\n",
       "      <td>392.83</td>\n",
       "      <td>4.03</td>\n",
       "      <td>34.7</td>\n",
       "    </tr>\n",
       "    <tr>\n",
       "      <th>3</th>\n",
       "      <td>0.03237</td>\n",
       "      <td>0.0</td>\n",
       "      <td>2.18</td>\n",
       "      <td>0.0</td>\n",
       "      <td>0.458</td>\n",
       "      <td>6.998</td>\n",
       "      <td>45.8</td>\n",
       "      <td>6.0622</td>\n",
       "      <td>3.0</td>\n",
       "      <td>18.7</td>\n",
       "      <td>394.63</td>\n",
       "      <td>2.94</td>\n",
       "      <td>33.4</td>\n",
       "    </tr>\n",
       "    <tr>\n",
       "      <th>4</th>\n",
       "      <td>0.06905</td>\n",
       "      <td>0.0</td>\n",
       "      <td>2.18</td>\n",
       "      <td>0.0</td>\n",
       "      <td>0.458</td>\n",
       "      <td>7.147</td>\n",
       "      <td>54.2</td>\n",
       "      <td>6.0622</td>\n",
       "      <td>3.0</td>\n",
       "      <td>18.7</td>\n",
       "      <td>396.90</td>\n",
       "      <td>5.33</td>\n",
       "      <td>36.2</td>\n",
       "    </tr>\n",
       "    <tr>\n",
       "      <th>...</th>\n",
       "      <td>...</td>\n",
       "      <td>...</td>\n",
       "      <td>...</td>\n",
       "      <td>...</td>\n",
       "      <td>...</td>\n",
       "      <td>...</td>\n",
       "      <td>...</td>\n",
       "      <td>...</td>\n",
       "      <td>...</td>\n",
       "      <td>...</td>\n",
       "      <td>...</td>\n",
       "      <td>...</td>\n",
       "      <td>...</td>\n",
       "    </tr>\n",
       "    <tr>\n",
       "      <th>501</th>\n",
       "      <td>0.06263</td>\n",
       "      <td>0.0</td>\n",
       "      <td>11.93</td>\n",
       "      <td>0.0</td>\n",
       "      <td>0.573</td>\n",
       "      <td>6.593</td>\n",
       "      <td>69.1</td>\n",
       "      <td>2.4786</td>\n",
       "      <td>1.0</td>\n",
       "      <td>21.0</td>\n",
       "      <td>391.99</td>\n",
       "      <td>9.67</td>\n",
       "      <td>22.4</td>\n",
       "    </tr>\n",
       "    <tr>\n",
       "      <th>502</th>\n",
       "      <td>0.04527</td>\n",
       "      <td>0.0</td>\n",
       "      <td>11.93</td>\n",
       "      <td>0.0</td>\n",
       "      <td>0.573</td>\n",
       "      <td>6.120</td>\n",
       "      <td>76.7</td>\n",
       "      <td>2.2875</td>\n",
       "      <td>1.0</td>\n",
       "      <td>21.0</td>\n",
       "      <td>396.90</td>\n",
       "      <td>9.08</td>\n",
       "      <td>20.6</td>\n",
       "    </tr>\n",
       "    <tr>\n",
       "      <th>503</th>\n",
       "      <td>0.06076</td>\n",
       "      <td>0.0</td>\n",
       "      <td>11.93</td>\n",
       "      <td>0.0</td>\n",
       "      <td>0.573</td>\n",
       "      <td>6.976</td>\n",
       "      <td>91.0</td>\n",
       "      <td>2.1675</td>\n",
       "      <td>1.0</td>\n",
       "      <td>21.0</td>\n",
       "      <td>396.90</td>\n",
       "      <td>5.64</td>\n",
       "      <td>23.9</td>\n",
       "    </tr>\n",
       "    <tr>\n",
       "      <th>504</th>\n",
       "      <td>0.10959</td>\n",
       "      <td>0.0</td>\n",
       "      <td>11.93</td>\n",
       "      <td>0.0</td>\n",
       "      <td>0.573</td>\n",
       "      <td>6.794</td>\n",
       "      <td>89.3</td>\n",
       "      <td>2.3889</td>\n",
       "      <td>1.0</td>\n",
       "      <td>21.0</td>\n",
       "      <td>393.45</td>\n",
       "      <td>6.48</td>\n",
       "      <td>22.0</td>\n",
       "    </tr>\n",
       "    <tr>\n",
       "      <th>505</th>\n",
       "      <td>0.04741</td>\n",
       "      <td>0.0</td>\n",
       "      <td>11.93</td>\n",
       "      <td>0.0</td>\n",
       "      <td>0.573</td>\n",
       "      <td>6.030</td>\n",
       "      <td>80.8</td>\n",
       "      <td>2.5050</td>\n",
       "      <td>1.0</td>\n",
       "      <td>21.0</td>\n",
       "      <td>396.90</td>\n",
       "      <td>7.88</td>\n",
       "      <td>11.9</td>\n",
       "    </tr>\n",
       "  </tbody>\n",
       "</table>\n",
       "<p>506 rows × 13 columns</p>\n",
       "</div>"
      ],
      "text/plain": [
       "        CRIM    ZN  INDUS  CHAS    NOX     RM   AGE     DIS  RAD  PTRATIO  \\\n",
       "0    0.00632  18.0   2.31   0.0  0.538  6.575  65.2  4.0900  1.0     15.3   \n",
       "1    0.02731   0.0   7.07   0.0  0.469  6.421  78.9  4.9671  2.0     17.8   \n",
       "2    0.02729   0.0   7.07   0.0  0.469  7.185  61.1  4.9671  2.0     17.8   \n",
       "3    0.03237   0.0   2.18   0.0  0.458  6.998  45.8  6.0622  3.0     18.7   \n",
       "4    0.06905   0.0   2.18   0.0  0.458  7.147  54.2  6.0622  3.0     18.7   \n",
       "..       ...   ...    ...   ...    ...    ...   ...     ...  ...      ...   \n",
       "501  0.06263   0.0  11.93   0.0  0.573  6.593  69.1  2.4786  1.0     21.0   \n",
       "502  0.04527   0.0  11.93   0.0  0.573  6.120  76.7  2.2875  1.0     21.0   \n",
       "503  0.06076   0.0  11.93   0.0  0.573  6.976  91.0  2.1675  1.0     21.0   \n",
       "504  0.10959   0.0  11.93   0.0  0.573  6.794  89.3  2.3889  1.0     21.0   \n",
       "505  0.04741   0.0  11.93   0.0  0.573  6.030  80.8  2.5050  1.0     21.0   \n",
       "\n",
       "          B  LSTAT  target  \n",
       "0    396.90   4.98    24.0  \n",
       "1    396.90   9.14    21.6  \n",
       "2    392.83   4.03    34.7  \n",
       "3    394.63   2.94    33.4  \n",
       "4    396.90   5.33    36.2  \n",
       "..      ...    ...     ...  \n",
       "501  391.99   9.67    22.4  \n",
       "502  396.90   9.08    20.6  \n",
       "503  396.90   5.64    23.9  \n",
       "504  393.45   6.48    22.0  \n",
       "505  396.90   7.88    11.9  \n",
       "\n",
       "[506 rows x 13 columns]"
      ]
     },
     "execution_count": 9,
     "metadata": {},
     "output_type": "execute_result"
    }
   ],
   "source": [
    "corr_matrix = df.corr().abs()\n",
    "\n",
    "# Upper triangle of the correlation matrix\n",
    "upper = corr_matrix.where(np.triu(np.ones(corr_matrix.shape), k=1).astype(np.bool))\n",
    "\n",
    "# Sorting index to drop any columns of the 2 where the coefficient is larger than 0.9\n",
    "to_drop = [column for column in upper.columns if any(upper[column] > 0.9)]\n",
    "\n",
    "# Drop the highly correlated features\n",
    "df = df.drop(to_drop, axis=1)\n",
    "df"
   ]
  },
  {
   "cell_type": "markdown",
   "metadata": {},
   "source": [
    "We can see that the column 'TAX' is dropped, but let's visualise our results to get an idea of the colleniarity between the variables"
   ]
  },
  {
   "cell_type": "code",
   "execution_count": 10,
   "metadata": {
    "scrolled": false
   },
   "outputs": [
    {
     "data": {
      "text/plain": [
       "Text(0.5, 1.0, 'Correlation plot between variables')"
      ]
     },
     "execution_count": 10,
     "metadata": {},
     "output_type": "execute_result"
    },
    {
     "data": {
      "image/png": "[encoded data removed]",
      "text/plain": [
       "<Figure size 864x648 with 2 Axes>"
      ]
     },
     "metadata": {
      "needs_background": "light"
     },
     "output_type": "display_data"
    }
   ],
   "source": [
    "#Visualizing our results by using heatmaps\n",
    "\n",
    "corr_matrix = data.corr()\n",
    "plt.figure(figsize=(12, 9))\n",
    "\n",
    "# Creating the correlation plot using a heatmap as a visual referance to check correlation\n",
    "sns.heatmap(corr_matrix, cmap='coolwarm', center=0, annot=True)\n",
    "\n",
    "# Setting the title of the plot\n",
    "plt.title('Correlation plot between variables')"
   ]
  },
  {
   "cell_type": "markdown",
   "metadata": {},
   "source": [
    "We can see from the above heatmap that TAX & RAD have a corellatio of 0.91, hence, in the above code TAX column was dropped"
   ]
  },
  {
   "cell_type": "markdown",
   "metadata": {
    "id": "kARkGcfnjCF8"
   },
   "source": [
    "\n",
    "**TODO 2**\n",
    "\n",
    "Partition the data into 75% training and 25% validation set."
   ]
  },
  {
   "cell_type": "code",
   "execution_count": 11,
   "metadata": {
    "id": "FxBLE5pzOe1q"
   },
   "outputs": [],
   "source": [
    "from sklearn.model_selection import train_test_split"
   ]
  },
  {
   "cell_type": "code",
   "execution_count": 12,
   "metadata": {},
   "outputs": [],
   "source": [
    "df1=df.iloc[:,:-1]\n",
    "df2=df[['target']]"
   ]
  },
  {
   "cell_type": "code",
   "execution_count": 13,
   "metadata": {},
   "outputs": [],
   "source": [
    "# as we have 'X' and 'y' already defined above, we can have the split directly as follows:\n",
    "X_train, X_val, y_train, y_val = train_test_split(df1, df2, test_size=0.25, random_state=42)"
   ]
  },
  {
   "cell_type": "code",
   "execution_count": 14,
   "metadata": {},
   "outputs": [],
   "source": [
    "#print('sizes of the partitioned data:\\t',X_train.shape, X_val.shape, y_train.shape, y_val.shape)"
   ]
  },
  {
   "cell_type": "code",
   "execution_count": 15,
   "metadata": {},
   "outputs": [
    {
     "name": "stdout",
     "output_type": "stream",
     "text": [
      "Training data % split: 75%\n",
      "Validation data % split: 25%\n"
     ]
    }
   ],
   "source": [
    "# Validating the split:\n",
    "\n",
    "print(f\"Training data % split: {round(len(X_train)/len(df)*100)}%\")\n",
    "print(f\"Validation data % split: {round(len(X_val)/len(df)*100)}%\")"
   ]
  },
  {
   "cell_type": "markdown",
   "metadata": {
    "id": "fJqs4RnZjd-n"
   },
   "source": [
    "\n",
    "**TODO 3**\n",
    "\n",
    "If we fit a linear regression model on the training set, what will be the feature weights? \n",
    "\n",
    "Calculate the feature weights using the matrix form (do not use any built-in packages such as sklearn or stat models)."
   ]
  },
  {
   "cell_type": "code",
   "execution_count": 16,
   "metadata": {
    "id": "yTkjKMyXkP5C"
   },
   "outputs": [
    {
     "data": {
      "text/plain": [
       "Index(['b0', 'CRIM', 'ZN', 'INDUS', 'CHAS', 'NOX', 'RM', 'AGE', 'DIS', 'RAD',\n",
       "       'PTRATIO', 'B', 'LSTAT'],\n",
       "      dtype='object')"
      ]
     },
     "execution_count": 16,
     "metadata": {},
     "output_type": "execute_result"
    }
   ],
   "source": [
    "# add the column of b0 with 1s to train dataframe\n",
    "X_train['b0'] = 1\n",
    "# rearrange the columns in a way that the column of 1s will be in the first position\n",
    "X_train = X_train[[ 'b0','CRIM', 'ZN', 'INDUS', 'CHAS', 'NOX', 'RM', 'AGE', 'DIS', 'RAD', 'PTRATIO', 'B', 'LSTAT']]\n",
    "# get the columns name of dataframe\n",
    "X_train.columns"
   ]
  },
  {
   "cell_type": "code",
   "execution_count": 17,
   "metadata": {},
   "outputs": [],
   "source": [
    "# convert the dataframe to numpy array\n",
    "xnp = X_train.to_numpy()"
   ]
  },
  {
   "cell_type": "code",
   "execution_count": 18,
   "metadata": {},
   "outputs": [],
   "source": [
    "# calculate the feature weights with the use of matrix multiplication\n",
    "beta_hat = np.linalg.inv(xnp.T.dot(xnp)).dot(xnp.T).dot(y_train)"
   ]
  },
  {
   "cell_type": "code",
   "execution_count": 19,
   "metadata": {},
   "outputs": [
    {
     "data": {
      "text/html": [
       "<div>\n",
       "<style scoped>\n",
       "    .dataframe tbody tr th:only-of-type {\n",
       "        vertical-align: middle;\n",
       "    }\n",
       "\n",
       "    .dataframe tbody tr th {\n",
       "        vertical-align: top;\n",
       "    }\n",
       "\n",
       "    .dataframe thead th {\n",
       "        text-align: right;\n",
       "    }\n",
       "</style>\n",
       "<table border=\"1\" class=\"dataframe\">\n",
       "  <thead>\n",
       "    <tr style=\"text-align: right;\">\n",
       "      <th></th>\n",
       "      <th>Predictor</th>\n",
       "      <th>Feature Weights Values</th>\n",
       "    </tr>\n",
       "  </thead>\n",
       "  <tbody>\n",
       "    <tr>\n",
       "      <th>0</th>\n",
       "      <td>b0</td>\n",
       "      <td>28.259949</td>\n",
       "    </tr>\n",
       "    <tr>\n",
       "      <th>1</th>\n",
       "      <td>CRIM</td>\n",
       "      <td>-0.127924</td>\n",
       "    </tr>\n",
       "    <tr>\n",
       "      <th>2</th>\n",
       "      <td>ZN</td>\n",
       "      <td>0.019811</td>\n",
       "    </tr>\n",
       "    <tr>\n",
       "      <th>3</th>\n",
       "      <td>INDUS</td>\n",
       "      <td>-0.011380</td>\n",
       "    </tr>\n",
       "    <tr>\n",
       "      <th>4</th>\n",
       "      <td>CHAS</td>\n",
       "      <td>3.008054</td>\n",
       "    </tr>\n",
       "    <tr>\n",
       "      <th>5</th>\n",
       "      <td>NOX</td>\n",
       "      <td>-17.328678</td>\n",
       "    </tr>\n",
       "    <tr>\n",
       "      <th>6</th>\n",
       "      <td>RM</td>\n",
       "      <td>4.451349</td>\n",
       "    </tr>\n",
       "    <tr>\n",
       "      <th>7</th>\n",
       "      <td>AGE</td>\n",
       "      <td>-0.008677</td>\n",
       "    </tr>\n",
       "    <tr>\n",
       "      <th>8</th>\n",
       "      <td>DIS</td>\n",
       "      <td>-1.382094</td>\n",
       "    </tr>\n",
       "    <tr>\n",
       "      <th>9</th>\n",
       "      <td>RAD</td>\n",
       "      <td>0.117091</td>\n",
       "    </tr>\n",
       "    <tr>\n",
       "      <th>10</th>\n",
       "      <td>PTRATIO</td>\n",
       "      <td>-0.952931</td>\n",
       "    </tr>\n",
       "    <tr>\n",
       "      <th>11</th>\n",
       "      <td>B</td>\n",
       "      <td>0.013454</td>\n",
       "    </tr>\n",
       "    <tr>\n",
       "      <th>12</th>\n",
       "      <td>LSTAT</td>\n",
       "      <td>-0.514006</td>\n",
       "    </tr>\n",
       "  </tbody>\n",
       "</table>\n",
       "</div>"
      ],
      "text/plain": [
       "   Predictor  Feature Weights Values\n",
       "0         b0               28.259949\n",
       "1       CRIM               -0.127924\n",
       "2         ZN                0.019811\n",
       "3      INDUS               -0.011380\n",
       "4       CHAS                3.008054\n",
       "5        NOX              -17.328678\n",
       "6         RM                4.451349\n",
       "7        AGE               -0.008677\n",
       "8        DIS               -1.382094\n",
       "9        RAD                0.117091\n",
       "10   PTRATIO               -0.952931\n",
       "11         B                0.013454\n",
       "12     LSTAT               -0.514006"
      ]
     },
     "execution_count": 19,
     "metadata": {},
     "output_type": "execute_result"
    }
   ],
   "source": [
    "# printing the calculated Beta values or Feature Weights for the variables\n",
    "fwv = pd.DataFrame({'Predictor': X_train.columns,'Feature Weights Values':beta_hat.flatten()})\n",
    "fwv"
   ]
  },
  {
   "cell_type": "markdown",
   "metadata": {
    "id": "tOKKKL7OkSJk"
   },
   "source": [
    "\n",
    "**TODO 4**\n",
    "\n",
    "Now only consider two input variables: Age and RM.\n",
    "\n",
    "Fit a linear regression model on the training set with a package at your choice. \n",
    "\n",
    "Present the model summary. We call this model **Model 1**."
   ]
  },
  {
   "cell_type": "code",
   "execution_count": 20,
   "metadata": {
    "id": "mb9lrptHlXZx"
   },
   "outputs": [],
   "source": [
    "train_x = X_train[['AGE', 'RM']]\n",
    "valid_x = X_val[['AGE', 'RM']]"
   ]
  },
  {
   "cell_type": "code",
   "execution_count": 21,
   "metadata": {},
   "outputs": [
    {
     "data": {
      "text/plain": [
       "LinearRegression()"
      ]
     },
     "execution_count": 21,
     "metadata": {},
     "output_type": "execute_result"
    }
   ],
   "source": [
    "# Linear Regression initiation\n",
    "model1 = LinearRegression()\n",
    "model1.fit(train_x, y_train)"
   ]
  },
  {
   "cell_type": "code",
   "execution_count": 22,
   "metadata": {},
   "outputs": [],
   "source": [
    "model1_coef = model1.coef_.flatten()"
   ]
  },
  {
   "cell_type": "code",
   "execution_count": 23,
   "metadata": {},
   "outputs": [
    {
     "name": "stdout",
     "output_type": "stream",
     "text": [
      "Summary for Model 1: \n",
      "\n",
      "Intercept:  [-27.58753582] \n",
      "\n",
      "R-Squared value:  0.5423032349278578 \n",
      "\n",
      "  Predictors  Feature Weights Values\n",
      "0        AGE               -0.067594\n",
      "1         RM                8.724504 \n",
      "\n"
     ]
    }
   ],
   "source": [
    "# Print the summary of the Model 1\n",
    "print(\"Summary for Model 1: \\n\")\n",
    "# intercept\n",
    "print('Intercept: ', model1.intercept_, \"\\n\")\n",
    "# r-squared value of the model\n",
    "print('R-Squared value: ', model1.score(train_x, y_train), \"\\n\")\n",
    "# feature weights of the model\n",
    "print(pd.DataFrame({'Predictors': train_x.columns, 'Feature Weights Values': model1_coef}),\"\\n\")"
   ]
  },
  {
   "cell_type": "markdown",
   "metadata": {
    "id": "b_JTWrEDlFPU"
   },
   "source": [
    "\n",
    "**TODO 5**\n",
    "\n",
    "Evaluate the prediction performance of Model 1 on the validation set with RMSE and MAE as performance matrics."
   ]
  },
  {
   "cell_type": "code",
   "execution_count": 24,
   "metadata": {
    "id": "716o2-CflX_1"
   },
   "outputs": [],
   "source": [
    "# predict the values based on the fitted training model\n",
    "y_test_predict = model1.predict(valid_x)\n",
    "# convert the array to 1D array\n",
    "y_test_predict = y_test_predict.flatten()\n",
    "#y_test_predict"
   ]
  },
  {
   "cell_type": "code",
   "execution_count": 25,
   "metadata": {},
   "outputs": [],
   "source": [
    "#y_val"
   ]
  },
  {
   "cell_type": "code",
   "execution_count": 26,
   "metadata": {},
   "outputs": [],
   "source": [
    "d = y_val['target'] - y_test_predict\n",
    "\n",
    "result = pd.DataFrame({'Predicted y': y_test_predict, \"Actual y\":y_val['target'], \"Residuals\": d}).reset_index(drop = True)\n",
    "#result.drop(['index'], inplace = True)\n"
   ]
  },
  {
   "cell_type": "code",
   "execution_count": 27,
   "metadata": {},
   "outputs": [
    {
     "data": {
      "text/html": [
       "<div>\n",
       "<style scoped>\n",
       "    .dataframe tbody tr th:only-of-type {\n",
       "        vertical-align: middle;\n",
       "    }\n",
       "\n",
       "    .dataframe tbody tr th {\n",
       "        vertical-align: top;\n",
       "    }\n",
       "\n",
       "    .dataframe thead th {\n",
       "        text-align: right;\n",
       "    }\n",
       "</style>\n",
       "<table border=\"1\" class=\"dataframe\">\n",
       "  <thead>\n",
       "    <tr style=\"text-align: right;\">\n",
       "      <th></th>\n",
       "      <th>Predicted y</th>\n",
       "      <th>Actual y</th>\n",
       "      <th>Residuals</th>\n",
       "    </tr>\n",
       "  </thead>\n",
       "  <tbody>\n",
       "    <tr>\n",
       "      <th>0</th>\n",
       "      <td>22.704254</td>\n",
       "      <td>23.6</td>\n",
       "      <td>0.895746</td>\n",
       "    </tr>\n",
       "    <tr>\n",
       "      <th>1</th>\n",
       "      <td>29.148830</td>\n",
       "      <td>32.4</td>\n",
       "      <td>3.251170</td>\n",
       "    </tr>\n",
       "    <tr>\n",
       "      <th>2</th>\n",
       "      <td>17.932917</td>\n",
       "      <td>13.6</td>\n",
       "      <td>-4.332917</td>\n",
       "    </tr>\n",
       "    <tr>\n",
       "      <th>3</th>\n",
       "      <td>24.799349</td>\n",
       "      <td>22.8</td>\n",
       "      <td>-1.999349</td>\n",
       "    </tr>\n",
       "    <tr>\n",
       "      <th>4</th>\n",
       "      <td>21.145567</td>\n",
       "      <td>16.1</td>\n",
       "      <td>-5.045567</td>\n",
       "    </tr>\n",
       "    <tr>\n",
       "      <th>...</th>\n",
       "      <td>...</td>\n",
       "      <td>...</td>\n",
       "      <td>...</td>\n",
       "    </tr>\n",
       "    <tr>\n",
       "      <th>122</th>\n",
       "      <td>17.624968</td>\n",
       "      <td>8.8</td>\n",
       "      <td>-8.824968</td>\n",
       "    </tr>\n",
       "    <tr>\n",
       "      <th>123</th>\n",
       "      <td>19.359466</td>\n",
       "      <td>19.2</td>\n",
       "      <td>-0.159466</td>\n",
       "    </tr>\n",
       "    <tr>\n",
       "      <th>124</th>\n",
       "      <td>25.787810</td>\n",
       "      <td>25.3</td>\n",
       "      <td>-0.487810</td>\n",
       "    </tr>\n",
       "    <tr>\n",
       "      <th>125</th>\n",
       "      <td>21.744268</td>\n",
       "      <td>20.4</td>\n",
       "      <td>-1.344268</td>\n",
       "    </tr>\n",
       "    <tr>\n",
       "      <th>126</th>\n",
       "      <td>27.388987</td>\n",
       "      <td>23.1</td>\n",
       "      <td>-4.288987</td>\n",
       "    </tr>\n",
       "  </tbody>\n",
       "</table>\n",
       "<p>127 rows × 3 columns</p>\n",
       "</div>"
      ],
      "text/plain": [
       "     Predicted y  Actual y  Residuals\n",
       "0      22.704254      23.6   0.895746\n",
       "1      29.148830      32.4   3.251170\n",
       "2      17.932917      13.6  -4.332917\n",
       "3      24.799349      22.8  -1.999349\n",
       "4      21.145567      16.1  -5.045567\n",
       "..           ...       ...        ...\n",
       "122    17.624968       8.8  -8.824968\n",
       "123    19.359466      19.2  -0.159466\n",
       "124    25.787810      25.3  -0.487810\n",
       "125    21.744268      20.4  -1.344268\n",
       "126    27.388987      23.1  -4.288987\n",
       "\n",
       "[127 rows x 3 columns]"
      ]
     },
     "execution_count": 27,
     "metadata": {},
     "output_type": "execute_result"
    }
   ],
   "source": [
    "result"
   ]
  },
  {
   "cell_type": "code",
   "execution_count": 28,
   "metadata": {},
   "outputs": [
    {
     "name": "stdout",
     "output_type": "stream",
     "text": [
      "RMSE:  6.091863482873926\n",
      "MAE:  3.923973303623646\n"
     ]
    }
   ],
   "source": [
    "# calculate the MSE\n",
    "mse_f = np.mean(d**2)\n",
    "# calculate the MAE\n",
    "mae_f = np.mean(abs(d))\n",
    "\n",
    "# calculate the RMSE from MSE\n",
    "rmse_f = np.sqrt(mse_f)\n",
    "print('RMSE: ', rmse_f)\n",
    "print('MAE: ', mae_f)"
   ]
  },
  {
   "cell_type": "markdown",
   "metadata": {
    "id": "-SVtXdBBlaF4"
   },
   "source": [
    "\n",
    "**TODO 6**\n",
    "\n",
    "Now consider all the features (after removing linearly dependent variables (post completion of TODO1)). \n",
    "\n",
    "Fit a linear regression model on the training set with a package at your choice. Present the model summary. \n",
    "\n",
    "We call this model **Model 2**."
   ]
  },
  {
   "cell_type": "code",
   "execution_count": 29,
   "metadata": {
    "id": "IQsEcHVNl9Rj"
   },
   "outputs": [
    {
     "data": {
      "text/plain": [
       "Index(['b0', 'CRIM', 'ZN', 'INDUS', 'CHAS', 'NOX', 'RM', 'AGE', 'DIS', 'RAD',\n",
       "       'PTRATIO', 'B', 'LSTAT'],\n",
       "      dtype='object')"
      ]
     },
     "execution_count": 29,
     "metadata": {},
     "output_type": "execute_result"
    }
   ],
   "source": [
    "X_train.columns"
   ]
  },
  {
   "cell_type": "code",
   "execution_count": 30,
   "metadata": {},
   "outputs": [],
   "source": [
    "X_train = X_train[['CRIM', 'ZN', 'INDUS', 'CHAS', 'NOX', 'RM', 'AGE', 'DIS', 'RAD', 'PTRATIO', 'B', 'LSTAT']]"
   ]
  },
  {
   "cell_type": "code",
   "execution_count": 31,
   "metadata": {},
   "outputs": [],
   "source": [
    "# initiating regression model\n",
    "\n",
    "model2 = LinearRegression()\n",
    "model2.fit(X_train, y_train)\n",
    "model2_coef = model2.coef_.flatten()"
   ]
  },
  {
   "cell_type": "code",
   "execution_count": 32,
   "metadata": {},
   "outputs": [
    {
     "name": "stdout",
     "output_type": "stream",
     "text": [
      "Intercept:  [28.25994905]\n"
     ]
    }
   ],
   "source": [
    "# Print the summary of the Model 2\n",
    "\n",
    "\n",
    "print('Intercept: ', model2.intercept_)"
   ]
  },
  {
   "cell_type": "code",
   "execution_count": 33,
   "metadata": {},
   "outputs": [
    {
     "name": "stdout",
     "output_type": "stream",
     "text": [
      "R-Squared value:  0.7445074100620326\n"
     ]
    }
   ],
   "source": [
    "# r-squared value of the model\n",
    "print('R-Squared value: ', model2.score(X_train, y_train))"
   ]
  },
  {
   "cell_type": "code",
   "execution_count": 34,
   "metadata": {},
   "outputs": [
    {
     "data": {
      "text/html": [
       "<div>\n",
       "<style scoped>\n",
       "    .dataframe tbody tr th:only-of-type {\n",
       "        vertical-align: middle;\n",
       "    }\n",
       "\n",
       "    .dataframe tbody tr th {\n",
       "        vertical-align: top;\n",
       "    }\n",
       "\n",
       "    .dataframe thead th {\n",
       "        text-align: right;\n",
       "    }\n",
       "</style>\n",
       "<table border=\"1\" class=\"dataframe\">\n",
       "  <thead>\n",
       "    <tr style=\"text-align: right;\">\n",
       "      <th></th>\n",
       "      <th>Predictors</th>\n",
       "      <th>Feature Weights Values</th>\n",
       "    </tr>\n",
       "  </thead>\n",
       "  <tbody>\n",
       "    <tr>\n",
       "      <th>0</th>\n",
       "      <td>CRIM</td>\n",
       "      <td>-0.127924</td>\n",
       "    </tr>\n",
       "    <tr>\n",
       "      <th>1</th>\n",
       "      <td>ZN</td>\n",
       "      <td>0.019811</td>\n",
       "    </tr>\n",
       "    <tr>\n",
       "      <th>2</th>\n",
       "      <td>INDUS</td>\n",
       "      <td>-0.011380</td>\n",
       "    </tr>\n",
       "    <tr>\n",
       "      <th>3</th>\n",
       "      <td>CHAS</td>\n",
       "      <td>3.008054</td>\n",
       "    </tr>\n",
       "    <tr>\n",
       "      <th>4</th>\n",
       "      <td>NOX</td>\n",
       "      <td>-17.328678</td>\n",
       "    </tr>\n",
       "    <tr>\n",
       "      <th>5</th>\n",
       "      <td>RM</td>\n",
       "      <td>4.451349</td>\n",
       "    </tr>\n",
       "    <tr>\n",
       "      <th>6</th>\n",
       "      <td>AGE</td>\n",
       "      <td>-0.008677</td>\n",
       "    </tr>\n",
       "    <tr>\n",
       "      <th>7</th>\n",
       "      <td>DIS</td>\n",
       "      <td>-1.382094</td>\n",
       "    </tr>\n",
       "    <tr>\n",
       "      <th>8</th>\n",
       "      <td>RAD</td>\n",
       "      <td>0.117091</td>\n",
       "    </tr>\n",
       "    <tr>\n",
       "      <th>9</th>\n",
       "      <td>PTRATIO</td>\n",
       "      <td>-0.952931</td>\n",
       "    </tr>\n",
       "    <tr>\n",
       "      <th>10</th>\n",
       "      <td>B</td>\n",
       "      <td>0.013454</td>\n",
       "    </tr>\n",
       "    <tr>\n",
       "      <th>11</th>\n",
       "      <td>LSTAT</td>\n",
       "      <td>-0.514006</td>\n",
       "    </tr>\n",
       "  </tbody>\n",
       "</table>\n",
       "</div>"
      ],
      "text/plain": [
       "   Predictors  Feature Weights Values\n",
       "0        CRIM               -0.127924\n",
       "1          ZN                0.019811\n",
       "2       INDUS               -0.011380\n",
       "3        CHAS                3.008054\n",
       "4         NOX              -17.328678\n",
       "5          RM                4.451349\n",
       "6         AGE               -0.008677\n",
       "7         DIS               -1.382094\n",
       "8         RAD                0.117091\n",
       "9     PTRATIO               -0.952931\n",
       "10          B                0.013454\n",
       "11      LSTAT               -0.514006"
      ]
     },
     "execution_count": 34,
     "metadata": {},
     "output_type": "execute_result"
    }
   ],
   "source": [
    "# feature weights of the model\n",
    "fw = pd.DataFrame({'Predictors': X_train.columns, 'Feature Weights Values': model2_coef})\n",
    "fw"
   ]
  },
  {
   "cell_type": "markdown",
   "metadata": {
    "id": "eqscMSkwl8wU"
   },
   "source": [
    "\n",
    "**TODO 7**\n",
    "\n",
    "Evaluate the prediction performance of Model 2 on the validation set with RMSE and MAE as performance matrics."
   ]
  },
  {
   "cell_type": "code",
   "execution_count": 35,
   "metadata": {
    "id": "q2dbIQ1NmDzh"
   },
   "outputs": [],
   "source": [
    "# predict the values based on the fitted training model\n",
    "yhat = model2.predict(X_val)\n",
    "# convert the array to 1D array\n",
    "yhat = yhat.flatten()"
   ]
  },
  {
   "cell_type": "code",
   "execution_count": 36,
   "metadata": {},
   "outputs": [
    {
     "data": {
      "text/html": [
       "<div>\n",
       "<style scoped>\n",
       "    .dataframe tbody tr th:only-of-type {\n",
       "        vertical-align: middle;\n",
       "    }\n",
       "\n",
       "    .dataframe tbody tr th {\n",
       "        vertical-align: top;\n",
       "    }\n",
       "\n",
       "    .dataframe thead th {\n",
       "        text-align: right;\n",
       "    }\n",
       "</style>\n",
       "<table border=\"1\" class=\"dataframe\">\n",
       "  <thead>\n",
       "    <tr style=\"text-align: right;\">\n",
       "      <th></th>\n",
       "      <th>Predicted y</th>\n",
       "      <th>Actual y</th>\n",
       "      <th>Residuals</th>\n",
       "    </tr>\n",
       "  </thead>\n",
       "  <tbody>\n",
       "    <tr>\n",
       "      <th>0</th>\n",
       "      <td>28.978237</td>\n",
       "      <td>23.6</td>\n",
       "      <td>-5.378237</td>\n",
       "    </tr>\n",
       "    <tr>\n",
       "      <th>1</th>\n",
       "      <td>35.617511</td>\n",
       "      <td>32.4</td>\n",
       "      <td>-3.217511</td>\n",
       "    </tr>\n",
       "    <tr>\n",
       "      <th>2</th>\n",
       "      <td>17.845544</td>\n",
       "      <td>13.6</td>\n",
       "      <td>-4.245544</td>\n",
       "    </tr>\n",
       "    <tr>\n",
       "      <th>3</th>\n",
       "      <td>25.184579</td>\n",
       "      <td>22.8</td>\n",
       "      <td>-2.384579</td>\n",
       "    </tr>\n",
       "    <tr>\n",
       "      <th>4</th>\n",
       "      <td>18.872895</td>\n",
       "      <td>16.1</td>\n",
       "      <td>-2.772895</td>\n",
       "    </tr>\n",
       "    <tr>\n",
       "      <th>...</th>\n",
       "      <td>...</td>\n",
       "      <td>...</td>\n",
       "      <td>...</td>\n",
       "    </tr>\n",
       "    <tr>\n",
       "      <th>122</th>\n",
       "      <td>3.222076</td>\n",
       "      <td>8.8</td>\n",
       "      <td>5.577924</td>\n",
       "    </tr>\n",
       "    <tr>\n",
       "      <th>123</th>\n",
       "      <td>24.689289</td>\n",
       "      <td>19.2</td>\n",
       "      <td>-5.489289</td>\n",
       "    </tr>\n",
       "    <tr>\n",
       "      <th>124</th>\n",
       "      <td>25.361373</td>\n",
       "      <td>25.3</td>\n",
       "      <td>-0.061373</td>\n",
       "    </tr>\n",
       "    <tr>\n",
       "      <th>125</th>\n",
       "      <td>22.810494</td>\n",
       "      <td>20.4</td>\n",
       "      <td>-2.410494</td>\n",
       "    </tr>\n",
       "    <tr>\n",
       "      <th>126</th>\n",
       "      <td>24.849674</td>\n",
       "      <td>23.1</td>\n",
       "      <td>-1.749674</td>\n",
       "    </tr>\n",
       "  </tbody>\n",
       "</table>\n",
       "<p>127 rows × 3 columns</p>\n",
       "</div>"
      ],
      "text/plain": [
       "     Predicted y  Actual y  Residuals\n",
       "0      28.978237      23.6  -5.378237\n",
       "1      35.617511      32.4  -3.217511\n",
       "2      17.845544      13.6  -4.245544\n",
       "3      25.184579      22.8  -2.384579\n",
       "4      18.872895      16.1  -2.772895\n",
       "..           ...       ...        ...\n",
       "122     3.222076       8.8   5.577924\n",
       "123    24.689289      19.2  -5.489289\n",
       "124    25.361373      25.3  -0.061373\n",
       "125    22.810494      20.4  -2.410494\n",
       "126    24.849674      23.1  -1.749674\n",
       "\n",
       "[127 rows x 3 columns]"
      ]
     },
     "execution_count": 36,
     "metadata": {},
     "output_type": "execute_result"
    }
   ],
   "source": [
    "# calculate residuals\n",
    "d = y_val['target'] - yhat\n",
    "\n",
    "# get the predicted y, actual target value of y and residuals.\n",
    "result = pd.DataFrame({'Predicted y': yhat, \"Actual y\":y_val['target'], \"Residuals\": d}).reset_index(drop = True)\n",
    "result"
   ]
  },
  {
   "cell_type": "code",
   "execution_count": 37,
   "metadata": {},
   "outputs": [
    {
     "name": "stdout",
     "output_type": "stream",
     "text": [
      "RMSE:  4.80516391661012\n",
      "MAE:  3.1397559413752223\n"
     ]
    }
   ],
   "source": [
    "# calculate the MSE\n",
    "mse_f = np.mean(d**2)\n",
    "\n",
    "# calculate the MAE\n",
    "mae_f = np.mean(abs(d))\n",
    "\n",
    "# calculate the RMSE from MSE\n",
    "rmse_f = np.sqrt(mse_f)\n",
    "print('RMSE: ', rmse_f)\n",
    "print('MAE: ', mae_f)\n"
   ]
  },
  {
   "cell_type": "markdown",
   "metadata": {
    "id": "2ZO2elK5mFtp"
   },
   "source": [
    "\n",
    "**TODO 8**\n",
    "\n",
    "Compare the performance of Model 1 and Model 2. \n",
    "\n",
    "Visualize the prediction error of both models using histogram. \n",
    "\n",
    "Comment on the model fitting."
   ]
  },
  {
   "cell_type": "code",
   "execution_count": 38,
   "metadata": {
    "id": "XtK5KSL5mUY1"
   },
   "outputs": [],
   "source": [
    "# find the difference between actual and predicted target values\n",
    "# model 1 prediction error\n",
    "res1 = y_val['target'] - y_test_predict\n",
    "\n",
    "# model 2 prediction error\n",
    "res2 = y_val['target'] - yhat"
   ]
  },
  {
   "cell_type": "code",
   "execution_count": 39,
   "metadata": {},
   "outputs": [
    {
     "data": {
      "text/plain": [
       "173   -5.378237\n",
       "274   -3.217511\n",
       "491   -4.245544\n",
       "72    -2.384579\n",
       "452   -2.772895\n",
       "         ...   \n",
       "418    5.577924\n",
       "117   -5.489289\n",
       "42    -0.061373\n",
       "322   -2.410494\n",
       "347   -1.749674\n",
       "Name: target, Length: 127, dtype: float64"
      ]
     },
     "execution_count": 39,
     "metadata": {},
     "output_type": "execute_result"
    }
   ],
   "source": [
    "res2"
   ]
  },
  {
   "cell_type": "code",
   "execution_count": 40,
   "metadata": {},
   "outputs": [
    {
     "data": {
      "image/png": "[encoded data removed]",
      "text/plain": [
       "<Figure size 720x432 with 1 Axes>"
      ]
     },
     "metadata": {
      "needs_background": "light"
     },
     "output_type": "display_data"
    }
   ],
   "source": [
    "# plot the side by side histogram for both models' prediction error\n",
    "plt.figure(figsize=(10, 6))\n",
    "plt.hist([res1, res2], label=['res1', 'res2'])\n",
    "plt.xlabel('Residuals')\n",
    "plt.title('Prediction Error of Model 1 and Model 2')\n",
    "plt.ylabel('Frequency')\n",
    "plt.show()"
   ]
  },
  {
   "cell_type": "markdown",
   "metadata": {},
   "source": [
    "Model 2 has lower RMSE and MAE values, \n",
    "which indicates that it is better at predicting the actual target values. \n",
    "Additionally, the residual plot for Model 2 is more evenly distributed around 0, whereas the residual plot for Model 1 shows a clear pattern of increasing residuals with increasing predicted values. This suggests that Model 2 has a more accurate and consistent fit to the data compared to Model 1."
   ]
  },
  {
   "cell_type": "markdown",
   "metadata": {
    "id": "mh3dkbjAmd9H"
   },
   "source": [
    "\n",
    "**TODO 9**\n",
    "\n",
    "Now consider all the features (after removing linearly dependent variables). \n",
    "\n",
    "The goal is to fit a LASSO linear regression model on the training set with a package at your choice. \n",
    "\n",
    "Compare the model performance of lambda in the range of [0,1] with the step of 0.01.\n",
    "\n",
    "Plot RMSE versus log(lambda).\n",
    "\n",
    "Pick the appropriate lambda value according to the plot.\n",
    "\n",
    "Present the model summary with the selected lambda. We call this model **Model 3**."
   ]
  },
  {
   "cell_type": "code",
   "execution_count": 41,
   "metadata": {
    "id": "8iKTKHaomrJL"
   },
   "outputs": [
    {
     "name": "stderr",
     "output_type": "stream",
     "text": [
      "C:\\Users\\Shreya Pande\\AppData\\Local\\Temp\\ipykernel_19048\\2403807861.py:8: UserWarning: With alpha=0, this algorithm does not converge well. You are advised to use the LinearRegression estimator\n",
      "  model3_1=lasso.fit(X_train, y_train)\n",
      "C:\\Users\\Shreya Pande\\anaconda3\\lib\\site-packages\\sklearn\\linear_model\\_coordinate_descent.py:647: UserWarning: Coordinate descent with no regularization may lead to unexpected results and is discouraged.\n",
      "  model = cd_fast.enet_coordinate_descent(\n",
      "C:\\Users\\Shreya Pande\\anaconda3\\lib\\site-packages\\sklearn\\linear_model\\_coordinate_descent.py:647: ConvergenceWarning: Objective did not converge. You might want to increase the number of iterations, check the scale of the features or consider increasing regularisation. Duality gap: 4.294e+03, tolerance: 3.361e+00 Linear regression models with null weight for the l1 regularization term are more efficiently fitted using one of the solvers implemented in sklearn.linear_model.Ridge/RidgeCV instead.\n",
      "  model = cd_fast.enet_coordinate_descent(\n"
     ]
    }
   ],
   "source": [
    "alphas = np.linspace(0,1,100)\n",
    "lasso = Lasso(max_iter=10000)\n",
    "coefs = []\n",
    "rmse=[]\n",
    "for a in alphas:\n",
    " lasso.set_params(alpha=a)\n",
    " #print(a)\n",
    " model3_1=lasso.fit(X_train, y_train)\n",
    " coefs.append(lasso.coef_)\n",
    " yhat = model3_1.predict(X_val)\n",
    " rmse1 = np.sqrt(mean_squared_error(y_val,yhat))\n",
    " rmse.append(rmse1)"
   ]
  },
  {
   "cell_type": "code",
   "execution_count": 42,
   "metadata": {},
   "outputs": [
    {
     "data": {
      "text/plain": [
       "Text(0.5, 1.0, 'RMSE vs log(alpha)')"
      ]
     },
     "execution_count": 42,
     "metadata": {},
     "output_type": "execute_result"
    },
    {
     "data": {
      "image/png": "[encoded data removed]",
      "text/plain": [
       "<Figure size 720x432 with 1 Axes>"
      ]
     },
     "metadata": {
      "needs_background": "light"
     },
     "output_type": "display_data"
    }
   ],
   "source": [
    "plt.figure(figsize=(10, 6))\n",
    "ax = plt.gca()\n",
    "ax.plot(alphas, rmse)\n",
    "ax.set_xscale('log')\n",
    "plt.axis('tight')\n",
    "plt.xlabel('alpha')\n",
    "plt.ylabel('RMSE')\n",
    "plt.title('RMSE vs log(alpha)')"
   ]
  },
  {
   "cell_type": "code",
   "execution_count": 43,
   "metadata": {},
   "outputs": [
    {
     "data": {
      "text/plain": [
       "Lasso(alpha=0.01)"
      ]
     },
     "execution_count": 43,
     "metadata": {},
     "output_type": "execute_result"
    }
   ],
   "source": [
    "# here we are getting the lowest value of error at the value 0.01. Therefore, alpha = 0.01 will give the best fit model\n",
    "model3 = Lasso(alpha = 0.01)\n",
    "model3.fit(X_train, y_train)"
   ]
  },
  {
   "cell_type": "code",
   "execution_count": 44,
   "metadata": {},
   "outputs": [
    {
     "name": "stdout",
     "output_type": "stream",
     "text": [
      "Intercept:  [26.02600718]\n",
      "R-Squared value:  0.7441073279038188\n",
      "   Predictors  Feature Weights Values\n",
      "0        CRIM               -0.125763\n",
      "1          ZN                0.020174\n",
      "2       INDUS               -0.026210\n",
      "3        CHAS                2.813631\n",
      "4         NOX              -14.056620\n",
      "5          RM                4.450460\n",
      "6         AGE               -0.011037\n",
      "7         DIS               -1.327054\n",
      "8         RAD                0.105395\n",
      "9     PTRATIO               -0.914612\n",
      "10          B                0.013606\n",
      "11      LSTAT               -0.522667\n"
     ]
    }
   ],
   "source": [
    "# convert 2D array to the 1D array\n",
    "model3_coef = model3.coef_.flatten()\n",
    "# intercept\n",
    "print('Intercept: ', model3.intercept_)\n",
    "# r-squared value of the model\n",
    "print('R-Squared value: ', model3.score(X_train, y_train))\n",
    "# feature weights of the model\n",
    "print(pd.DataFrame({'Predictors': X_train.columns, 'Feature Weights Values': model3_coef}))"
   ]
  },
  {
   "cell_type": "markdown",
   "metadata": {},
   "source": [
    "R squeared value is 0.74 which is decent. Feauture weight for NOX is pretty high while others are mostly in the lower ballpark range. The R2 value of 0.74 means that about 74% of the variance in the target variable can be explained by the predictors in the model. This indicates that the model has some predictive power, but there is still a substantial amount of unexplained variance. The model comparision states that this model works better than our previous models"
   ]
  },
  {
   "cell_type": "markdown",
   "metadata": {
    "id": "awGm3NPRmsjN"
   },
   "source": [
    "\n",
    "**TODO 10**\n",
    "\n",
    "Evaluate the prediction performance of Model 3 on the validation set with RMSE and MAE as performance matrics."
   ]
  },
  {
   "cell_type": "code",
   "execution_count": 45,
   "metadata": {
    "id": "M3iFpmebmxDz"
   },
   "outputs": [
    {
     "data": {
      "text/html": [
       "<div>\n",
       "<style scoped>\n",
       "    .dataframe tbody tr th:only-of-type {\n",
       "        vertical-align: middle;\n",
       "    }\n",
       "\n",
       "    .dataframe tbody tr th {\n",
       "        vertical-align: top;\n",
       "    }\n",
       "\n",
       "    .dataframe thead th {\n",
       "        text-align: right;\n",
       "    }\n",
       "</style>\n",
       "<table border=\"1\" class=\"dataframe\">\n",
       "  <thead>\n",
       "    <tr style=\"text-align: right;\">\n",
       "      <th></th>\n",
       "      <th>Predicted</th>\n",
       "      <th>Actual</th>\n",
       "      <th>Residuals</th>\n",
       "    </tr>\n",
       "  </thead>\n",
       "  <tbody>\n",
       "    <tr>\n",
       "      <th>173</th>\n",
       "      <td>28.854415</td>\n",
       "      <td>23.6</td>\n",
       "      <td>-5.254415</td>\n",
       "    </tr>\n",
       "    <tr>\n",
       "      <th>274</th>\n",
       "      <td>35.369841</td>\n",
       "      <td>32.4</td>\n",
       "      <td>-2.969841</td>\n",
       "    </tr>\n",
       "    <tr>\n",
       "      <th>491</th>\n",
       "      <td>17.683996</td>\n",
       "      <td>13.6</td>\n",
       "      <td>-4.083996</td>\n",
       "    </tr>\n",
       "    <tr>\n",
       "      <th>72</th>\n",
       "      <td>25.109933</td>\n",
       "      <td>22.8</td>\n",
       "      <td>-2.309933</td>\n",
       "    </tr>\n",
       "    <tr>\n",
       "      <th>452</th>\n",
       "      <td>19.025227</td>\n",
       "      <td>16.1</td>\n",
       "      <td>-2.925227</td>\n",
       "    </tr>\n",
       "    <tr>\n",
       "      <th>...</th>\n",
       "      <td>...</td>\n",
       "      <td>...</td>\n",
       "      <td>...</td>\n",
       "    </tr>\n",
       "    <tr>\n",
       "      <th>418</th>\n",
       "      <td>3.275572</td>\n",
       "      <td>8.8</td>\n",
       "      <td>5.524428</td>\n",
       "    </tr>\n",
       "    <tr>\n",
       "      <th>117</th>\n",
       "      <td>24.630949</td>\n",
       "      <td>19.2</td>\n",
       "      <td>-5.430949</td>\n",
       "    </tr>\n",
       "    <tr>\n",
       "      <th>42</th>\n",
       "      <td>25.444018</td>\n",
       "      <td>25.3</td>\n",
       "      <td>-0.144018</td>\n",
       "    </tr>\n",
       "    <tr>\n",
       "      <th>322</th>\n",
       "      <td>22.904228</td>\n",
       "      <td>20.4</td>\n",
       "      <td>-2.504228</td>\n",
       "    </tr>\n",
       "    <tr>\n",
       "      <th>347</th>\n",
       "      <td>25.031475</td>\n",
       "      <td>23.1</td>\n",
       "      <td>-1.931475</td>\n",
       "    </tr>\n",
       "  </tbody>\n",
       "</table>\n",
       "<p>127 rows × 3 columns</p>\n",
       "</div>"
      ],
      "text/plain": [
       "     Predicted  Actual  Residuals\n",
       "173  28.854415    23.6  -5.254415\n",
       "274  35.369841    32.4  -2.969841\n",
       "491  17.683996    13.6  -4.083996\n",
       "72   25.109933    22.8  -2.309933\n",
       "452  19.025227    16.1  -2.925227\n",
       "..         ...     ...        ...\n",
       "418   3.275572     8.8   5.524428\n",
       "117  24.630949    19.2  -5.430949\n",
       "42   25.444018    25.3  -0.144018\n",
       "322  22.904228    20.4  -2.504228\n",
       "347  25.031475    23.1  -1.931475\n",
       "\n",
       "[127 rows x 3 columns]"
      ]
     },
     "execution_count": 45,
     "metadata": {},
     "output_type": "execute_result"
    }
   ],
   "source": [
    "# predict the values on test dataset\n",
    "yvalid_pred = model3.predict(X_val)\n",
    "result = pd.DataFrame({'Predicted': yvalid_pred, 'Actual': y_val['target'], 'Residuals': y_val['target'] - yvalid_pred})\n",
    "result"
   ]
  },
  {
   "cell_type": "code",
   "execution_count": 46,
   "metadata": {},
   "outputs": [
    {
     "name": "stdout",
     "output_type": "stream",
     "text": [
      "\n",
      "RMSE:  4.817691034679868\n",
      "R2 value:  0.6685549960423985\n"
     ]
    }
   ],
   "source": [
    "# count the rmse value\n",
    "rmse = (np.sqrt(mean_squared_error(y_val, yvalid_pred)))\n",
    "# convert the array to 1D array\n",
    "yvalid_pred = yvalid_pred.flatten()\n",
    "# calculate the r2 score\n",
    "r2 = r2_score(y_val, yvalid_pred)\n",
    "print('\\nRMSE: ', rmse)\n",
    "print('R2 value: ', r2)"
   ]
  },
  {
   "cell_type": "markdown",
   "metadata": {
    "id": "OolmJkPgmzet"
   },
   "source": [
    "\n",
    "**TODO 11**\n",
    "\n",
    "Among Model 1, 2, and 3, which one would be your pick for future implementation? State your reasons."
   ]
  },
  {
   "cell_type": "markdown",
   "metadata": {
    "id": "UQbxD3linDY4"
   },
   "source": [
    "Going by the performance evaluation of our model, **Model 2** seems better as it has the hightest R2 value. I would have preffered Model 2 for future implementations. "
   ]
  },
  {
   "cell_type": "markdown",
   "metadata": {
    "id": "wikS7XK7Z1ZU"
   },
   "source": [
    "### Problem 2"
   ]
  },
  {
   "cell_type": "markdown",
   "metadata": {
    "id": "Gi7euZebQLi-"
   },
   "source": [
    "**About the data:** <br>\n",
    "The advertising dataset includes advertising expenditure and sales of a product in 200 distinct markets.\n",
    "The columns are as follows:\n",
    "\n",
    "*   TV: Advertising expenditure of product in Television sector \n",
    "*   Newpaper: Advertising expenditure of product in Newspaper sector\n",
    "*   Sales: Sales of the product\n",
    "\n",
    "\n",
    "The goal is to predict the sales of the product based on the advertising expenditure in the two sectors.\n",
    "\n",
    "\n",
    "\n",
    "\n",
    "\n",
    "\n",
    "\n",
    "\n"
   ]
  },
  {
   "cell_type": "markdown",
   "metadata": {
    "id": "B2u-hAGN_sUV"
   },
   "source": [
    "#### Using Sklearn"
   ]
  },
  {
   "cell_type": "markdown",
   "metadata": {
    "id": "5L41g8p3-POo"
   },
   "source": [
    "Import Advertising.csv data <br>\n",
    "(Sales column is the target variable)"
   ]
  },
  {
   "cell_type": "code",
   "execution_count": 67,
   "metadata": {
    "id": "nxAD7X2w8aqv"
   },
   "outputs": [],
   "source": [
    "adv_url = \"https://raw.githubusercontent.com/shreyapande1/HW4/main/advertising.csv\"\n",
    "adv = pd.read_csv(adv_url)"
   ]
  },
  {
   "cell_type": "code",
   "execution_count": 68,
   "metadata": {
    "colab": {
     "base_uri": "https://localhost:8080/",
     "height": 206
    },
    "id": "ndJX4MqmRYnH",
    "outputId": "c64abda8-efd3-4390-a789-0d065ffe86dd"
   },
   "outputs": [
    {
     "data": {
      "text/html": [
       "<div>\n",
       "<style scoped>\n",
       "    .dataframe tbody tr th:only-of-type {\n",
       "        vertical-align: middle;\n",
       "    }\n",
       "\n",
       "    .dataframe tbody tr th {\n",
       "        vertical-align: top;\n",
       "    }\n",
       "\n",
       "    .dataframe thead th {\n",
       "        text-align: right;\n",
       "    }\n",
       "</style>\n",
       "<table border=\"1\" class=\"dataframe\">\n",
       "  <thead>\n",
       "    <tr style=\"text-align: right;\">\n",
       "      <th></th>\n",
       "      <th>TV</th>\n",
       "      <th>newspaper</th>\n",
       "      <th>sales</th>\n",
       "    </tr>\n",
       "  </thead>\n",
       "  <tbody>\n",
       "    <tr>\n",
       "      <th>0</th>\n",
       "      <td>230.1</td>\n",
       "      <td>69.2</td>\n",
       "      <td>22.1</td>\n",
       "    </tr>\n",
       "    <tr>\n",
       "      <th>1</th>\n",
       "      <td>44.5</td>\n",
       "      <td>45.1</td>\n",
       "      <td>10.4</td>\n",
       "    </tr>\n",
       "    <tr>\n",
       "      <th>2</th>\n",
       "      <td>17.2</td>\n",
       "      <td>69.3</td>\n",
       "      <td>9.3</td>\n",
       "    </tr>\n",
       "    <tr>\n",
       "      <th>3</th>\n",
       "      <td>151.5</td>\n",
       "      <td>58.5</td>\n",
       "      <td>18.5</td>\n",
       "    </tr>\n",
       "    <tr>\n",
       "      <th>4</th>\n",
       "      <td>180.8</td>\n",
       "      <td>58.4</td>\n",
       "      <td>12.9</td>\n",
       "    </tr>\n",
       "  </tbody>\n",
       "</table>\n",
       "</div>"
      ],
      "text/plain": [
       "      TV  newspaper  sales\n",
       "0  230.1       69.2   22.1\n",
       "1   44.5       45.1   10.4\n",
       "2   17.2       69.3    9.3\n",
       "3  151.5       58.5   18.5\n",
       "4  180.8       58.4   12.9"
      ]
     },
     "execution_count": 68,
     "metadata": {},
     "output_type": "execute_result"
    }
   ],
   "source": [
    "adv.head()"
   ]
  },
  {
   "cell_type": "code",
   "execution_count": 69,
   "metadata": {
    "id": "jsnuuj0_RcsP"
   },
   "outputs": [],
   "source": [
    "from sklearn.model_selection import train_test_split\n",
    "from sklearn.linear_model import LinearRegression\n",
    "import statsmodels.formula.api as sm\n",
    "import matplotlib.pylab as plt"
   ]
  },
  {
   "cell_type": "markdown",
   "metadata": {
    "id": "L9Y7ija09sn4"
   },
   "source": [
    "**Todo 1:** Fit the data in a linear regression model using sklearn\n"
   ]
  },
  {
   "cell_type": "code",
   "execution_count": 73,
   "metadata": {
    "colab": {
     "base_uri": "https://localhost:8080/"
    },
    "id": "JlOcH2MXRbsJ",
    "outputId": "aae62c35-7d33-4c61-cd6f-c9f20fc046e8"
   },
   "outputs": [],
   "source": [
    "X = adv[[\"TV\", \"newspaper\"]]\n",
    "y = adv[\"sales\"]"
   ]
  },
  {
   "cell_type": "code",
   "execution_count": 74,
   "metadata": {},
   "outputs": [
    {
     "name": "stdout",
     "output_type": "stream",
     "text": [
      "Intercept: 5.77\n",
      "Coefficients: [('TV', 0.04690121389190709), ('newspaper', 0.04421942424519283)]\n"
     ]
    }
   ],
   "source": [
    "reg = LinearRegression()\n",
    "reg.fit(X, y)\n",
    "print(\"Intercept: {:.2f}\".format(reg.intercept_))\n",
    "print(\"Coefficients: {}\".format(list(zip(X.columns, reg.coef_))))"
   ]
  },
  {
   "cell_type": "markdown",
   "metadata": {
    "id": "YhGyM4BY_JeK"
   },
   "source": [
    "**Todo 2:** \n",
    "Predict the sales values from the above fitted model <br>\n",
    "Calculate Mean Absolute Error, Mean Squared Error, Root Mean Squared Error and R Squared Score"
   ]
  },
  {
   "cell_type": "code",
   "execution_count": 75,
   "metadata": {
    "colab": {
     "base_uri": "https://localhost:8080/"
    },
    "id": "vRcsj-WFV2Hs",
    "outputId": "e0902eaf-5884-408d-826a-fbd421db0c32"
   },
   "outputs": [],
   "source": [
    "from sklearn.metrics import mean_absolute_error, mean_squared_error, r2_score"
   ]
  },
  {
   "cell_type": "code",
   "execution_count": 76,
   "metadata": {
    "colab": {
     "base_uri": "https://localhost:8080/"
    },
    "id": "rVIyxAlUSyTg",
    "outputId": "c444cea6-90ba-4df0-8e28-74217f9aea8c"
   },
   "outputs": [
    {
     "name": "stdout",
     "output_type": "stream",
     "text": [
      "Mean Absolute Error: 2.40\n",
      "Mean Squared Error: 9.59\n",
      "Root Mean Squared Error: 3.10\n",
      "R Squared Score: 0.65\n"
     ]
    }
   ],
   "source": [
    "y_pred = reg.predict(X)\n",
    "\n",
    "# Calculate the evaluation metrics\n",
    "mae = mean_absolute_error(y, y_pred)\n",
    "mse = mean_squared_error(y, y_pred)\n",
    "rmse = mean_squared_error(y, y_pred, squared=False)\n",
    "r2 = r2_score(y, y_pred)\n",
    "\n",
    "print(\"Mean Absolute Error: {:.2f}\".format(mae))\n",
    "print(\"Mean Squared Error: {:.2f}\".format(mse))\n",
    "print(\"Root Mean Squared Error: {:.2f}\".format(rmse))\n",
    "print(\"R Squared Score: {:.2f}\".format(r2))"
   ]
  },
  {
   "cell_type": "markdown",
   "metadata": {
    "id": "ssIyEwvXAHlW"
   },
   "source": [
    "**Todo 3**: Plot the Actual and Predicted values. Provide interpretations for the visualization"
   ]
  },
  {
   "cell_type": "code",
   "execution_count": 77,
   "metadata": {
    "id": "Lrx2-bZwV5WC"
   },
   "outputs": [
    {
     "data": {
      "image/png": "[encoded data removed]",
      "text/plain": [
       "<Figure size 720x432 with 1 Axes>"
      ]
     },
     "metadata": {
      "needs_background": "light"
     },
     "output_type": "display_data"
    }
   ],
   "source": [
    "plt.figure(figsize=(10, 6))\n",
    "plt.scatter(y, y_pred)\n",
    "plt.plot([min(y), max(y)], [min(y), max(y)], 'k--', lw=2)\n",
    "plt.xlabel('Actual Values')\n",
    "plt.ylabel('Predicted Values')\n",
    "plt.title('Actual vs. Predicted Sales')\n",
    "plt.show()"
   ]
  },
  {
   "cell_type": "markdown",
   "metadata": {},
   "source": [
    "The data follows the line, yet is scattered, the model seems to be performing fairly well yet might have certain outliers, since, data is scattered at center and ends"
   ]
  },
  {
   "cell_type": "markdown",
   "metadata": {
    "id": "LKP956FUS7eq"
   },
   "source": [
    "**Todo 4:** Plot a 3D visualization for the dataset given. The plane of the 3D plot should represent the line equation and the actual values are scattered across the plot"
   ]
  },
  {
   "cell_type": "code",
   "execution_count": 78,
   "metadata": {
    "id": "E_Xfj8TmV-RZ"
   },
   "outputs": [
    {
     "name": "stderr",
     "output_type": "stream",
     "text": [
      "C:\\Users\\Shreya Pande\\anaconda3\\lib\\site-packages\\sklearn\\base.py:450: UserWarning: X does not have valid feature names, but LinearRegression was fitted with feature names\n",
      "  warnings.warn(\n"
     ]
    },
    {
     "data": {
      "image/png": "[encoded data removed]",
      "text/plain": [
       "<Figure size 720x576 with 1 Axes>"
      ]
     },
     "metadata": {
      "needs_background": "light"
     },
     "output_type": "display_data"
    }
   ],
   "source": [
    "xx, yy = np.meshgrid(np.linspace(X.TV.min(), X.TV.max(), 100), np.linspace(X.newspaper.min(), X.newspaper.max(), 100))\n",
    "zz = reg.predict(np.c_[xx.ravel(), yy.ravel()]).reshape(xx.shape)\n",
    "\n",
    "\n",
    "# Create a 3D plot\n",
    "fig = plt.figure(figsize=(10, 8))\n",
    "ax = fig.add_subplot(111, projection='3d')\n",
    "ax.view_init(azim=30, elev=5)\n",
    "ax.scatter(X.TV, X.newspaper, y, c='b', marker='o')\n",
    "\n",
    "# Plot the plane of the linear regression model\n",
    "ax.plot_surface(xx, yy, zz, alpha=0.2)\n",
    "ax.set_xlabel('TV')\n",
    "ax.set_ylabel('Newspaper')\n",
    "ax.set_zlabel('Sales')\n",
    "ax.set_title('3D Visualization of Advertising Dataset')\n",
    "plt.show()"
   ]
  },
  {
   "cell_type": "markdown",
   "metadata": {
    "id": "wbw0DBR4AXXt"
   },
   "source": [
    "#### Using Matrix Multiplication"
   ]
  },
  {
   "cell_type": "markdown",
   "metadata": {
    "id": "TgKnY_zDDrIm"
   },
   "source": [
    "##### Without Bias (excluding B0)"
   ]
  },
  {
   "cell_type": "markdown",
   "metadata": {
    "id": "y5GQRCzsB3Ml"
   },
   "source": [
    "Import Advertsing.csv <br>\n",
    "(Sales column is the target variable)"
   ]
  },
  {
   "cell_type": "code",
   "execution_count": 79,
   "metadata": {
    "id": "2dECNbG-B21G"
   },
   "outputs": [],
   "source": [
    "adv_url = \"https://raw.githubusercontent.com/shreyapande1/HW4/main/advertising.csv\"\n",
    "adv = pd.read_csv(adv_url)"
   ]
  },
  {
   "cell_type": "code",
   "execution_count": 80,
   "metadata": {},
   "outputs": [],
   "source": [
    "from sklearn.metrics import mean_absolute_error, mean_squared_error, r2_score"
   ]
  },
  {
   "cell_type": "markdown",
   "metadata": {
    "id": "zXr8sjIkEz1C"
   },
   "source": [
    "**Todo 1:** Use matrix multiplication to calculate the coefficients of the linear regression model\n"
   ]
  },
  {
   "cell_type": "code",
   "execution_count": 81,
   "metadata": {
    "id": "FsAyHJOKWAA_"
   },
   "outputs": [],
   "source": [
    "X = adv[['TV', 'newspaper']].values\n",
    "y = adv['sales'].values\n",
    "\n",
    "# Calculate the coefficients using matrix multiplication\n",
    "w = np.linalg.inv(X.T @ X) @ X.T @ y"
   ]
  },
  {
   "cell_type": "code",
   "execution_count": 82,
   "metadata": {},
   "outputs": [
    {
     "data": {
      "text/plain": [
       "array([0.06644496, 0.10582324])"
      ]
     },
     "execution_count": 82,
     "metadata": {},
     "output_type": "execute_result"
    }
   ],
   "source": [
    "w"
   ]
  },
  {
   "cell_type": "markdown",
   "metadata": {
    "id": "yPsMr7R0FFju"
   },
   "source": [
    "**Todo 2**: Predict the sales values from the above coefficients calculated. <br>\n",
    "Calculate Mean Absolute Error, Mean Squared Error, Root Mean Squared Error and R Squared Score with the predicted values to the actual values given in the csv."
   ]
  },
  {
   "cell_type": "code",
   "execution_count": 83,
   "metadata": {
    "id": "TpV--AzFWC4L"
   },
   "outputs": [],
   "source": [
    "y_pred = X @ w"
   ]
  },
  {
   "cell_type": "code",
   "execution_count": 84,
   "metadata": {},
   "outputs": [
    {
     "name": "stdout",
     "output_type": "stream",
     "text": [
      "Mean Absolute Error: 3.176486954736882\n",
      "Mean Squared Error: 15.477158327054251\n",
      "Root Mean Squared Error: 3.934101972122005\n",
      "R Squared Score: 0.4285865483367334\n"
     ]
    }
   ],
   "source": [
    "mae = mean_absolute_error(y, y_pred)\n",
    "mse = mean_squared_error(y, y_pred)\n",
    "rmse = np.sqrt(mse)\n",
    "r2 = r2_score(y, y_pred)\n",
    "\n",
    "print(\"Mean Absolute Error:\", mae)\n",
    "print(\"Mean Squared Error:\", mse)\n",
    "print(\"Root Mean Squared Error:\", rmse)\n",
    "print(\"R Squared Score:\", r2)"
   ]
  },
  {
   "cell_type": "markdown",
   "metadata": {
    "id": "0-O3jgPAFPcU"
   },
   "source": [
    "**Todo 3:** Plot the Actual and Predicted values. Provide interpretations for the visualization"
   ]
  },
  {
   "cell_type": "code",
   "execution_count": 85,
   "metadata": {
    "id": "eUqNlg9RWF64",
    "scrolled": false
   },
   "outputs": [
    {
     "data": {
      "text/plain": [
       "Text(0.5, 1.0, 'Actual vs. Predicted Sales')"
      ]
     },
     "execution_count": 85,
     "metadata": {},
     "output_type": "execute_result"
    },
    {
     "data": {
      "image/png": "[encoded data removed]",
      "text/plain": [
       "<Figure size 1080x432 with 1 Axes>"
      ]
     },
     "metadata": {
      "needs_background": "light"
     },
     "output_type": "display_data"
    }
   ],
   "source": [
    "fig, ax = plt.subplots(figsize=(15, 6)) \n",
    "plt.plot([0, max(y)], [0, max(y_pred)], 'r--')\n",
    "ax.scatter(y, y_pred)\n",
    "ax.set_xlabel('Actual Values')\n",
    "ax.set_ylabel('Predicted Values')\n",
    "ax.set_title('Actual vs. Predicted Sales')"
   ]
  },
  {
   "cell_type": "markdown",
   "metadata": {},
   "source": [
    "The data is scattered widely around the diagonal line, this indicates that the model is not performing very well, we can observe that the values are mainly below the diagonal line in a graph of the actual and predicted values, it means that the model is generally underestimating the target variable"
   ]
  },
  {
   "cell_type": "markdown",
   "metadata": {
    "id": "N80FM7JRDbBg"
   },
   "source": [
    "##### With Bias (including B0)"
   ]
  },
  {
   "cell_type": "markdown",
   "metadata": {
    "id": "-RWN62GMFdtM"
   },
   "source": [
    "**Todo 1:** Use matrix multiplication to calculate the coefficients of the linear regression model with bias\n"
   ]
  },
  {
   "cell_type": "code",
   "execution_count": 86,
   "metadata": {
    "id": "dwSOA_72WIpW"
   },
   "outputs": [],
   "source": [
    "X_bias = np.hstack([np.ones((X.shape[0], 1)), X])"
   ]
  },
  {
   "cell_type": "code",
   "execution_count": 87,
   "metadata": {},
   "outputs": [],
   "source": [
    "coeffs = np.linalg.inv(X_bias.T @ X_bias) @ X_bias.T @ y"
   ]
  },
  {
   "cell_type": "code",
   "execution_count": 88,
   "metadata": {},
   "outputs": [
    {
     "data": {
      "text/plain": [
       "array([5.77494797, 0.04690121, 0.04421942])"
      ]
     },
     "execution_count": 88,
     "metadata": {},
     "output_type": "execute_result"
    }
   ],
   "source": [
    "coeffs.flatten()"
   ]
  },
  {
   "cell_type": "markdown",
   "metadata": {
    "id": "W59mWkhfFsAz"
   },
   "source": [
    "**Todo 2**: \n",
    "\n",
    "Predict the sales values from the above coefficients calculated. <br>\n",
    "Calculate Mean Absolute Error, Mean Squared Error, Root Mean Squared Error and R Squared Score with the predicted values to the actual values given in the csv."
   ]
  },
  {
   "cell_type": "code",
   "execution_count": 89,
   "metadata": {
    "id": "jR-Air74WKHO"
   },
   "outputs": [],
   "source": [
    "theta = np.linalg.inv(X_bias.T.dot(X_bias)).dot(X_bias.T).dot(y)\n",
    "y_pred = X_bias.dot(theta)"
   ]
  },
  {
   "cell_type": "code",
   "execution_count": 90,
   "metadata": {},
   "outputs": [
    {
     "name": "stdout",
     "output_type": "stream",
     "text": [
      "Mean Absolute Error: 2.40\n",
      "Mean Squared Error: 9.59\n",
      "Root Mean Squared Error: 3.10\n",
      "R Squared Score: 0.65\n"
     ]
    }
   ],
   "source": [
    "mae = np.mean(np.abs(y - y_pred))\n",
    "mse = np.mean((y - y_pred)**2)\n",
    "rmse = np.sqrt(mse)\n",
    "ss_res = np.sum((y - y_pred)**2)\n",
    "ss_tot = np.sum((y - np.mean(y))**2)\n",
    "r2_score = 1 - (ss_res / ss_tot)\n",
    "\n",
    "print(\"Mean Absolute Error: {:.2f}\".format(mae))\n",
    "print(\"Mean Squared Error: {:.2f}\".format(mse))\n",
    "print(\"Root Mean Squared Error: {:.2f}\".format(rmse))\n",
    "print(\"R Squared Score: {:.2f}\".format(r2_score))"
   ]
  },
  {
   "cell_type": "markdown",
   "metadata": {
    "id": "drq2YypaF0Mg"
   },
   "source": [
    "**Todo 3**: Plot the Actual and Predicted values. Provide interpretations for the visualization"
   ]
  },
  {
   "cell_type": "code",
   "execution_count": 91,
   "metadata": {
    "id": "G7smgtwQWMQJ"
   },
   "outputs": [
    {
     "data": {
      "image/png": "[encoded data removed]",
      "text/plain": [
       "<Figure size 720x432 with 1 Axes>"
      ]
     },
     "metadata": {
      "needs_background": "light"
     },
     "output_type": "display_data"
    }
   ],
   "source": [
    "plt.figure(figsize=(10,6))\n",
    "plt.scatter(y, y_pred, c='black')\n",
    "plt.plot([0, max(y)], [0, max(y_pred)], 'r--')\n",
    "plt.xlabel('Actual values')\n",
    "plt.ylabel('Predicted values')\n",
    "plt.title('Actual vs. Predicted Sales Values')\n",
    "plt.show()"
   ]
  },
  {
   "cell_type": "markdown",
   "metadata": {},
   "source": [
    "The graph looks similar to what we had in TODO3, scattered around the center but doesnt necessarily follow the trend along the diagonal line. The predicted values are majorly above the line it might mean that the model is generally overestimating the target variable. This suggests that the model may be biased towards higher values."
   ]
  },
  {
   "cell_type": "markdown",
   "metadata": {
    "id": "Pl6obbtiEdN-"
   },
   "source": [
    "**Todo 4**: Compare and interpret results of with and without bias."
   ]
  },
  {
   "cell_type": "markdown",
   "metadata": {
    "id": "SjFenP14Eh69"
   },
   "source": [
    "The Model1 might be underfitting the data a bit as compared to model2 which might be overestimating the target variable. Model2 overall looks like a better fit as, most of the predicted values are around the diagonal line as compared to model1"
   ]
  },
  {
   "cell_type": "markdown",
   "metadata": {
    "id": "xihWVCgWJ8OK"
   },
   "source": [
    "**Todo 5**: Do you notice any difference between the model evaluated with bias and sklearn model."
   ]
  },
  {
   "cell_type": "markdown",
   "metadata": {
    "id": "dGNYbNPaVbWq"
   },
   "source": [
    "The model evaluated with bias tends to fit the data better than the model evaluated without bias"
   ]
  },
  {
   "cell_type": "markdown",
   "metadata": {
    "id": "Mqv9-w_zCvvg"
   },
   "source": [
    "#Problem 3 - Forward Selection"
   ]
  },
  {
   "cell_type": "markdown",
   "metadata": {
    "id": "bMXABEJtQiE5"
   },
   "source": [
    "Using the abalone csv file, implement the forward selection.\n",
    "\n",
    "For performance evaluation, use adjusted R squared."
   ]
  },
  {
   "cell_type": "markdown",
   "metadata": {
    "id": "fBdxwqifY77y"
   },
   "source": [
    "**Dataset:**\n",
    "abalone.csv\n",
    "\n",
    "**Attribute Information:**\n",
    "Given is the attribute name, attribute type, the measurement unit, and a brief description. \n",
    "\n",
    "Name / Data Type / Measurement Unit / Description \n",
    "\n",
    "Length / continuous / mm / Longest shell measurement \n",
    "\n",
    "Diameter / continuous / mm / perpendicular to length \n",
    "\n",
    "Height / continuous / mm / with meat in shell \n",
    "\n",
    "Whole weight / continuous / grams / whole abalone \n",
    "\n",
    "Shucked weight / continuous / grams / weight of meat \n",
    "\n",
    "Viscera weight / continuous / grams / gut weight (after bleeding) \n",
    "\n",
    "Shell weight / continuous / grams / after being dried \n",
    "\n",
    "Rings / integer / -- / +1.5 gives the age in years\n",
    "\n",
    "**The target variable is Rings. The rest are predictors.**"
   ]
  },
  {
   "cell_type": "markdown",
   "metadata": {
    "id": "R2YCvO_sYM-G"
   },
   "source": [
    "**TODO 1:**\n",
    "Load the csv file and split the data into train and test with 70:30 ratio.\n"
   ]
  },
  {
   "cell_type": "code",
   "execution_count": 93,
   "metadata": {
    "id": "VMuk996dYcUn"
   },
   "outputs": [],
   "source": [
    "ablone_url = \"https://raw.githubusercontent.com/shreyapande1/HW4/main/abalone.csv\"\n",
    "ablone = pd.read_csv(ablone_url)"
   ]
  },
  {
   "cell_type": "code",
   "execution_count": 94,
   "metadata": {},
   "outputs": [
    {
     "data": {
      "text/html": [
       "<div>\n",
       "<style scoped>\n",
       "    .dataframe tbody tr th:only-of-type {\n",
       "        vertical-align: middle;\n",
       "    }\n",
       "\n",
       "    .dataframe tbody tr th {\n",
       "        vertical-align: top;\n",
       "    }\n",
       "\n",
       "    .dataframe thead th {\n",
       "        text-align: right;\n",
       "    }\n",
       "</style>\n",
       "<table border=\"1\" class=\"dataframe\">\n",
       "  <thead>\n",
       "    <tr style=\"text-align: right;\">\n",
       "      <th></th>\n",
       "      <th>Length</th>\n",
       "      <th>Diameter</th>\n",
       "      <th>Height</th>\n",
       "      <th>Whole weight</th>\n",
       "      <th>Shucked weight</th>\n",
       "      <th>Viscera weight</th>\n",
       "      <th>Shell weight</th>\n",
       "      <th>Rings</th>\n",
       "    </tr>\n",
       "  </thead>\n",
       "  <tbody>\n",
       "    <tr>\n",
       "      <th>0</th>\n",
       "      <td>0.455</td>\n",
       "      <td>0.365</td>\n",
       "      <td>0.095</td>\n",
       "      <td>0.5140</td>\n",
       "      <td>0.2245</td>\n",
       "      <td>0.1010</td>\n",
       "      <td>0.150</td>\n",
       "      <td>15</td>\n",
       "    </tr>\n",
       "    <tr>\n",
       "      <th>1</th>\n",
       "      <td>0.350</td>\n",
       "      <td>0.265</td>\n",
       "      <td>0.090</td>\n",
       "      <td>0.2255</td>\n",
       "      <td>0.0995</td>\n",
       "      <td>0.0485</td>\n",
       "      <td>0.070</td>\n",
       "      <td>7</td>\n",
       "    </tr>\n",
       "    <tr>\n",
       "      <th>2</th>\n",
       "      <td>0.530</td>\n",
       "      <td>0.420</td>\n",
       "      <td>0.135</td>\n",
       "      <td>0.6770</td>\n",
       "      <td>0.2565</td>\n",
       "      <td>0.1415</td>\n",
       "      <td>0.210</td>\n",
       "      <td>9</td>\n",
       "    </tr>\n",
       "    <tr>\n",
       "      <th>3</th>\n",
       "      <td>0.440</td>\n",
       "      <td>0.365</td>\n",
       "      <td>0.125</td>\n",
       "      <td>0.5160</td>\n",
       "      <td>0.2155</td>\n",
       "      <td>0.1140</td>\n",
       "      <td>0.155</td>\n",
       "      <td>10</td>\n",
       "    </tr>\n",
       "    <tr>\n",
       "      <th>4</th>\n",
       "      <td>0.330</td>\n",
       "      <td>0.255</td>\n",
       "      <td>0.080</td>\n",
       "      <td>0.2050</td>\n",
       "      <td>0.0895</td>\n",
       "      <td>0.0395</td>\n",
       "      <td>0.055</td>\n",
       "      <td>7</td>\n",
       "    </tr>\n",
       "  </tbody>\n",
       "</table>\n",
       "</div>"
      ],
      "text/plain": [
       "   Length  Diameter  Height  Whole weight  Shucked weight  Viscera weight  \\\n",
       "0   0.455     0.365   0.095        0.5140          0.2245          0.1010   \n",
       "1   0.350     0.265   0.090        0.2255          0.0995          0.0485   \n",
       "2   0.530     0.420   0.135        0.6770          0.2565          0.1415   \n",
       "3   0.440     0.365   0.125        0.5160          0.2155          0.1140   \n",
       "4   0.330     0.255   0.080        0.2050          0.0895          0.0395   \n",
       "\n",
       "   Shell weight  Rings  \n",
       "0         0.150     15  \n",
       "1         0.070      7  \n",
       "2         0.210      9  \n",
       "3         0.155     10  \n",
       "4         0.055      7  "
      ]
     },
     "execution_count": 94,
     "metadata": {},
     "output_type": "execute_result"
    }
   ],
   "source": [
    "ablone.head()"
   ]
  },
  {
   "cell_type": "code",
   "execution_count": 95,
   "metadata": {},
   "outputs": [],
   "source": [
    "# Splitting the dataset into 70:30 ratio for train and test\n",
    "train_ablone, test_ablone = train_test_split(ablone, test_size=0.3, random_state = 42)"
   ]
  },
  {
   "cell_type": "code",
   "execution_count": 96,
   "metadata": {},
   "outputs": [
    {
     "name": "stdout",
     "output_type": "stream",
     "text": [
      "Train set %: 70\n",
      "Test set %: 30\n"
     ]
    }
   ],
   "source": [
    "print(\"Train set %:\", round(len(train_ablone)/len(ablone)*100))\n",
    "print(\"Test set %:\", round(len(test_ablone)/len(ablone)*100))"
   ]
  },
  {
   "cell_type": "code",
   "execution_count": 97,
   "metadata": {},
   "outputs": [
    {
     "name": "stdout",
     "output_type": "stream",
     "text": [
      "Training data dimentions\n",
      "(2923, 8)\n",
      "\n",
      "\n",
      "Testing data dimentions\n",
      "(1254, 8)\n"
     ]
    }
   ],
   "source": [
    "print(\"Training data dimentions\") \n",
    "print(train_ablone.shape)\n",
    "print(\"\\n\")\n",
    "print(\"Testing data dimentions\")\n",
    "print(test_ablone.shape)"
   ]
  },
  {
   "cell_type": "markdown",
   "metadata": {
    "id": "KH1MSDUgRi5V"
   },
   "source": [
    "**TODO 2:**\n",
    "Choosing the first variable.\n",
    "\n",
    "Write a function with inputs as variables, builds a linear regression model (use sklearn) and returns the adjusted R squared score. \n",
    "\n",
    "1. From the 6 variables present, select one variable each time and build a linear regression model (using the above function that you have built). \n",
    "\n",
    "2. Compare the model performance by adjusted R square. Present your results in a tabular form with vairable and the R squared value.\n",
    "\n",
    "3. Select the winning model."
   ]
  },
  {
   "cell_type": "code",
   "execution_count": 117,
   "metadata": {},
   "outputs": [],
   "source": [
    "def calc_adj_r2(X, y, r2):\n",
    "    n = len(y)\n",
    "    p = X.shape[1]\n",
    "    adj_r2 = 1 - ((1 - r2) * (n - 1)) / (n - p - 1)\n",
    "    return adj_r2\n",
    "\n",
    "def tlrm(X, y):\n",
    "    model = LinearRegression().fit(X, y)\n",
    "    r2 = model.score(X, y)\n",
    "    adj_r2 = calc_adj_r2(X, y, r2)\n",
    "    return adj_r2"
   ]
  },
  {
   "cell_type": "code",
   "execution_count": 118,
   "metadata": {},
   "outputs": [
    {
     "name": "stdout",
     "output_type": "stream",
     "text": [
      "         Variable Adj R-Squared\n",
      "6    Shell weight      0.393704\n",
      "1        Diameter      0.330074\n",
      "2          Height      0.310605\n",
      "0          Length      0.309771\n",
      "3    Whole weight      0.291851\n",
      "5  Viscera weight      0.253655\n",
      "4  Shucked weight      0.176946\n"
     ]
    },
    {
     "name": "stderr",
     "output_type": "stream",
     "text": [
      "C:\\Users\\Shreya Pande\\AppData\\Local\\Temp\\ipykernel_19048\\2784265880.py:9: FutureWarning: The frame.append method is deprecated and will be removed from pandas in a future version. Use pandas.concat instead.\n",
      "  results = results.append({'Variable': var, 'Adj R-Squared': adj_r2}, ignore_index=True)\n",
      "C:\\Users\\Shreya Pande\\AppData\\Local\\Temp\\ipykernel_19048\\2784265880.py:9: FutureWarning: The frame.append method is deprecated and will be removed from pandas in a future version. Use pandas.concat instead.\n",
      "  results = results.append({'Variable': var, 'Adj R-Squared': adj_r2}, ignore_index=True)\n",
      "C:\\Users\\Shreya Pande\\AppData\\Local\\Temp\\ipykernel_19048\\2784265880.py:9: FutureWarning: The frame.append method is deprecated and will be removed from pandas in a future version. Use pandas.concat instead.\n",
      "  results = results.append({'Variable': var, 'Adj R-Squared': adj_r2}, ignore_index=True)\n",
      "C:\\Users\\Shreya Pande\\AppData\\Local\\Temp\\ipykernel_19048\\2784265880.py:9: FutureWarning: The frame.append method is deprecated and will be removed from pandas in a future version. Use pandas.concat instead.\n",
      "  results = results.append({'Variable': var, 'Adj R-Squared': adj_r2}, ignore_index=True)\n",
      "C:\\Users\\Shreya Pande\\AppData\\Local\\Temp\\ipykernel_19048\\2784265880.py:9: FutureWarning: The frame.append method is deprecated and will be removed from pandas in a future version. Use pandas.concat instead.\n",
      "  results = results.append({'Variable': var, 'Adj R-Squared': adj_r2}, ignore_index=True)\n",
      "C:\\Users\\Shreya Pande\\AppData\\Local\\Temp\\ipykernel_19048\\2784265880.py:9: FutureWarning: The frame.append method is deprecated and will be removed from pandas in a future version. Use pandas.concat instead.\n",
      "  results = results.append({'Variable': var, 'Adj R-Squared': adj_r2}, ignore_index=True)\n",
      "C:\\Users\\Shreya Pande\\AppData\\Local\\Temp\\ipykernel_19048\\2784265880.py:9: FutureWarning: The frame.append method is deprecated and will be removed from pandas in a future version. Use pandas.concat instead.\n",
      "  results = results.append({'Variable': var, 'Adj R-Squared': adj_r2}, ignore_index=True)\n"
     ]
    }
   ],
   "source": [
    "variables = ['Length', 'Diameter', 'Height', 'Whole weight', 'Shucked weight', 'Viscera weight', 'Shell weight']\n",
    "\n",
    "results = pd.DataFrame(columns=['Variable', 'Adj R-Squared'])\n",
    "\n",
    "for var in variables:\n",
    "    X = ablone[[var]]\n",
    "    y = ablone['Rings']\n",
    "    adj_r2 = tlrm(X, y)\n",
    "    results = results.append({'Variable': var, 'Adj R-Squared': adj_r2}, ignore_index=True)\n",
    "\n",
    "results.sort_values(by=['Adj R-Squared'], ascending=False, inplace=True)\n",
    "print(results)"
   ]
  },
  {
   "cell_type": "markdown",
   "metadata": {},
   "source": [
    "\"Shell weight\" appears to be the variable with the highest performance as a predictor of \"Rings\" with adj R-squared value of 0.393704"
   ]
  },
  {
   "cell_type": "markdown",
   "metadata": {
    "id": "MNTfua2sT2nd"
   },
   "source": [
    "**TODO 3:**\n",
    "Choosing the second variable\n",
    "1. Using the variable from the winning model, find the second best variable with the possible combinations.\n",
    "\n",
    "2. compare the model performance and present your results in a tabular form.\n",
    "\n",
    "3. select the winning model."
   ]
  },
  {
   "cell_type": "code",
   "execution_count": 119,
   "metadata": {},
   "outputs": [
    {
     "data": {
      "text/html": [
       "<div>\n",
       "<style scoped>\n",
       "    .dataframe tbody tr th:only-of-type {\n",
       "        vertical-align: middle;\n",
       "    }\n",
       "\n",
       "    .dataframe tbody tr th {\n",
       "        vertical-align: top;\n",
       "    }\n",
       "\n",
       "    .dataframe thead th {\n",
       "        text-align: right;\n",
       "    }\n",
       "</style>\n",
       "<table border=\"1\" class=\"dataframe\">\n",
       "  <thead>\n",
       "    <tr style=\"text-align: right;\">\n",
       "      <th></th>\n",
       "      <th>Variable 1</th>\n",
       "      <th>Variable 2</th>\n",
       "      <th>Adjusted R-squared</th>\n",
       "    </tr>\n",
       "  </thead>\n",
       "  <tbody>\n",
       "    <tr>\n",
       "      <th>1</th>\n",
       "      <td>Shell weight</td>\n",
       "      <td>Diameter</td>\n",
       "      <td>0.393793</td>\n",
       "    </tr>\n",
       "    <tr>\n",
       "      <th>2</th>\n",
       "      <td>Shell weight</td>\n",
       "      <td>Height</td>\n",
       "      <td>0.399534</td>\n",
       "    </tr>\n",
       "    <tr>\n",
       "      <th>3</th>\n",
       "      <td>Shell weight</td>\n",
       "      <td>Whole weight</td>\n",
       "      <td>0.433679</td>\n",
       "    </tr>\n",
       "    <tr>\n",
       "      <th>4</th>\n",
       "      <td>Shell weight</td>\n",
       "      <td>Shucked weight</td>\n",
       "      <td>0.473671</td>\n",
       "    </tr>\n",
       "    <tr>\n",
       "      <th>5</th>\n",
       "      <td>Shell weight</td>\n",
       "      <td>Viscera weight</td>\n",
       "      <td>0.418150</td>\n",
       "    </tr>\n",
       "  </tbody>\n",
       "</table>\n",
       "</div>"
      ],
      "text/plain": [
       "     Variable 1      Variable 2  Adjusted R-squared\n",
       "1  Shell weight        Diameter            0.393793\n",
       "2  Shell weight          Height            0.399534\n",
       "3  Shell weight    Whole weight            0.433679\n",
       "4  Shell weight  Shucked weight            0.473671\n",
       "5  Shell weight  Viscera weight            0.418150"
      ]
     },
     "execution_count": 119,
     "metadata": {},
     "output_type": "execute_result"
    }
   ],
   "source": [
    "X = ablone[['Shell weight', 'Diameter', 'Height', 'Whole weight', 'Shucked weight', 'Viscera weight']]\n",
    "y = ablone['Rings']\n",
    "\n",
    "# find all possible combinations of two variables\n",
    "combinations = [('Shell weight', fix_var) for fix_var in X.columns]\n",
    "\n",
    "# calculate adjusted R-squared for each combination\n",
    "results = []\n",
    "for combo in combinations:\n",
    "    model = LinearRegression().fit(X[list(combo)], y)\n",
    "    r2 = model.score(X[list(combo)], y)\n",
    "    n = len(y)\n",
    "    p = len(combo)\n",
    "    adj_r2 = 1 - ((1 - r2) * (n - 1)) / (n - p - 1)\n",
    "    results.append({'Variable 1': combo[0], 'Variable 2': combo[1], 'Adjusted R-squared': adj_r2})\n",
    "\n",
    "# display results in a table and comapre\n",
    "results_df = pd.DataFrame(results).drop(0)\n",
    "results_df"
   ]
  },
  {
   "cell_type": "markdown",
   "metadata": {},
   "source": [
    "Shell weight\tShucked weight\t0.473671 looks like the winning model here with highest adjusted R-squared value"
   ]
  },
  {
   "cell_type": "markdown",
   "metadata": {
    "id": "HAS8isG4bC7j"
   },
   "source": [
    "**Todo 4:** What are the 2 variables selected"
   ]
  },
  {
   "cell_type": "markdown",
   "metadata": {
    "id": "pq9f_9CweSuZ"
   },
   "source": []
  },
  {
   "cell_type": "markdown",
   "metadata": {
    "id": "LxTA3MN-gBBy"
   },
   "source": [
    "\"Shell Weight\" was the winning variable selected. After \"Shell Weight\", individually looking, we see that the adj R2 value for \"Shucked weight\" is the highest, however if we look at the combinations, we see that the winning combination with highest adj R2 value is \"Shell weight, Diameter, Height, Whole weight, Shucked weight, Viscera weight\""
   ]
  },
  {
   "cell_type": "markdown",
   "metadata": {},
   "source": [
    "By looking at the above combinations and their adj R2 square values, we can conclude that, \"Shell weight, Shucked weight\" are the variable choice with adj R2 as -> 0.473671"
   ]
  }
 ],
 "metadata": {
  "colab": {
   "provenance": []
  },
  "kernelspec": {
   "display_name": "Python 3 (ipykernel)",
   "language": "python",
   "name": "python3"
  },
  "language_info": {
   "codemirror_mode": {
    "name": "ipython",
    "version": 3
   },
   "file_extension": ".py",
   "mimetype": "text/x-python",
   "name": "python",
   "nbconvert_exporter": "python",
   "pygments_lexer": "ipython3",
   "version": "3.9.12"
  }
 },
 "nbformat": 4,
 "nbformat_minor": 1
}

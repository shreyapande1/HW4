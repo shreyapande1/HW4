{
  "cells": [
    {
      "cell_type": "markdown",
      "metadata": {
        "id": "view-in-github",
        "colab_type": "text"
      },
      "source": [
        "<a href=\"https://colab.research.google.com/github/shreyapande1/HW4/blob/main/Homework_4_Solutions.ipynb\" target=\"_parent\"><img src=\"https://colab.research.google.com/assets/colab-badge.svg\" alt=\"Open In Colab\"/></a>"
      ]
    },
    {
      "cell_type": "markdown",
      "metadata": {
        "id": "Yq0XoVUIVNLC"
      },
      "source": [
        "# Homework 4"
      ]
    },
    {
      "cell_type": "markdown",
      "metadata": {
        "id": "0aqF485OxR-U"
      },
      "source": [
        "**Before you start:** Read Chapter 6 Linear Regression and Chapter 7 K-Nearst-Neighbors in the textbook.\n",
        "\n",
        "**Note:** Please enter the code along with your comments in the **TODO** section.\n",
        "\n",
        "Alternative solutions are welcomed."
      ]
    },
    {
      "cell_type": "markdown",
      "metadata": {
        "id": "QkMxpyKOxR-L"
      },
      "source": [
        "## Part 1: Linear Regression"
      ]
    },
    {
      "cell_type": "markdown",
      "metadata": {
        "id": "3IKYRqKtxR-N"
      },
      "source": [
        "### Problem 1 ##"
      ]
    },
    {
      "cell_type": "markdown",
      "metadata": {
        "id": "H8fENJRPk7P7"
      },
      "source": [
        "In this problem, you are expected to build a model to predict the Boston housing price.\n"
      ]
    },
    {
      "cell_type": "code",
      "execution_count": 1,
      "metadata": {
        "id": "0J9ra7d4rXb6"
      },
      "outputs": [],
      "source": [
        "# # Please remove # and run the following code if you have an error while importing the dataset\n",
        "# !pip install --upgrade openpyxl"
      ]
    },
    {
      "cell_type": "code",
      "execution_count": null,
      "metadata": {
        "id": "-aISISDbDVKG"
      },
      "outputs": [],
      "source": [
        "from sklearn import datasets\n",
        "import pandas as pd\n",
        "import numpy as np\n",
        "import seaborn as sns\n",
        "import matplotlib.pyplot as plt\n",
        "np.set_printoptions(suppress=True)\n",
        "import sklearn"
      ]
    },
    {
      "cell_type": "code",
      "execution_count": null,
      "metadata": {
        "colab": {
          "base_uri": "https://localhost:8080/"
        },
        "id": "2i3RflfbbrPA",
        "outputId": "d5f16630-207a-4c4c-929a-6d523df76c66"
      },
      "outputs": [
        {
          "name": "stdout",
          "output_type": "stream",
          "text": [
            ".. _boston_dataset:\n",
            "\n",
            "Boston house prices dataset\n",
            "---------------------------\n",
            "\n",
            "**Data Set Characteristics:**  \n",
            "\n",
            "    :Number of Instances: 506 \n",
            "\n",
            "    :Number of Attributes: 13 numeric/categorical predictive. Median Value (attribute 14) is usually the target.\n",
            "\n",
            "    :Attribute Information (in order):\n",
            "        - CRIM     per capita crime rate by town\n",
            "        - ZN       proportion of residential land zoned for lots over 25,000 sq.ft.\n",
            "        - INDUS    proportion of non-retail business acres per town\n",
            "        - CHAS     Charles River dummy variable (= 1 if tract bounds river; 0 otherwise)\n",
            "        - NOX      nitric oxides concentration (parts per 10 million)\n",
            "        - RM       average number of rooms per dwelling\n",
            "        - AGE      proportion of owner-occupied units built prior to 1940\n",
            "        - DIS      weighted distances to five Boston employment centres\n",
            "        - RAD      index of accessibility to radial highways\n",
            "        - TAX      full-value property-tax rate per $10,000\n",
            "        - PTRATIO  pupil-teacher ratio by town\n",
            "        - B        1000(Bk - 0.63)^2 where Bk is the proportion of blacks by town\n",
            "        - LSTAT    % lower status of the population\n",
            "        - MEDV     Median value of owner-occupied homes in $1000's\n",
            "\n",
            "    :Missing Attribute Values: None\n",
            "\n",
            "    :Creator: Harrison, D. and Rubinfeld, D.L.\n",
            "\n",
            "This is a copy of UCI ML housing dataset.\n",
            "https://archive.ics.uci.edu/ml/machine-learning-databases/housing/\n",
            "\n",
            "\n",
            "This dataset was taken from the StatLib library which is maintained at Carnegie Mellon University.\n",
            "\n",
            "The Boston house-price data of Harrison, D. and Rubinfeld, D.L. 'Hedonic\n",
            "prices and the demand for clean air', J. Environ. Economics & Management,\n",
            "vol.5, 81-102, 1978.   Used in Belsley, Kuh & Welsch, 'Regression diagnostics\n",
            "...', Wiley, 1980.   N.B. Various transformations are used in the table on\n",
            "pages 244-261 of the latter.\n",
            "\n",
            "The Boston house-price data has been used in many machine learning papers that address regression\n",
            "problems.   \n",
            "     \n",
            ".. topic:: References\n",
            "\n",
            "   - Belsley, Kuh & Welsch, 'Regression diagnostics: Identifying Influential Data and Sources of Collinearity', Wiley, 1980. 244-261.\n",
            "   - Quinlan,R. (1993). Combining Instance-Based and Model-Based Learning. In Proceedings on the Tenth International Conference of Machine Learning, 236-243, University of Massachusetts, Amherst. Morgan Kaufmann.\n",
            "\n"
          ]
        }
      ],
      "source": [
        "print(sklearn.datasets.load_boston().DESCR)"
      ]
    },
    {
      "cell_type": "code",
      "execution_count": null,
      "metadata": {
        "id": "vp1m53zhwdu2"
      },
      "outputs": [],
      "source": [
        "#Load boston housing dataset\n",
        "boston_housing = datasets.load_boston()\n",
        "X = pd.DataFrame(boston_housing['data'], columns = boston_housing['feature_names'])\n",
        "\n",
        "#\"target\" is the response variable \n",
        "# which represents the median value of owner-occupied homes in $1000\n",
        "y = boston_housing['target'] "
      ]
    },
    {
      "cell_type": "code",
      "execution_count": null,
      "metadata": {
        "id": "koZ7LZPkZ5bq"
      },
      "outputs": [],
      "source": [
        "data = X\n",
        "data['target'] = y"
      ]
    },
    {
      "cell_type": "code",
      "execution_count": null,
      "metadata": {
        "colab": {
          "base_uri": "https://localhost:8080/",
          "height": 204
        },
        "id": "X1ki8-fqZ_Sc",
        "outputId": "f0c4f26c-b438-4340-f84c-760ce78395ec"
      },
      "outputs": [
        {
          "data": {
            "text/html": [
              "<div>\n",
              "<style scoped>\n",
              "    .dataframe tbody tr th:only-of-type {\n",
              "        vertical-align: middle;\n",
              "    }\n",
              "\n",
              "    .dataframe tbody tr th {\n",
              "        vertical-align: top;\n",
              "    }\n",
              "\n",
              "    .dataframe thead th {\n",
              "        text-align: right;\n",
              "    }\n",
              "</style>\n",
              "<table border=\"1\" class=\"dataframe\">\n",
              "  <thead>\n",
              "    <tr style=\"text-align: right;\">\n",
              "      <th></th>\n",
              "      <th>CRIM</th>\n",
              "      <th>ZN</th>\n",
              "      <th>INDUS</th>\n",
              "      <th>CHAS</th>\n",
              "      <th>NOX</th>\n",
              "      <th>RM</th>\n",
              "      <th>AGE</th>\n",
              "      <th>DIS</th>\n",
              "      <th>RAD</th>\n",
              "      <th>TAX</th>\n",
              "      <th>PTRATIO</th>\n",
              "      <th>B</th>\n",
              "      <th>LSTAT</th>\n",
              "      <th>target</th>\n",
              "    </tr>\n",
              "  </thead>\n",
              "  <tbody>\n",
              "    <tr>\n",
              "      <th>0</th>\n",
              "      <td>0.00632</td>\n",
              "      <td>18.0</td>\n",
              "      <td>2.31</td>\n",
              "      <td>0.0</td>\n",
              "      <td>0.538</td>\n",
              "      <td>6.575</td>\n",
              "      <td>65.2</td>\n",
              "      <td>4.0900</td>\n",
              "      <td>1.0</td>\n",
              "      <td>296.0</td>\n",
              "      <td>15.3</td>\n",
              "      <td>396.90</td>\n",
              "      <td>4.98</td>\n",
              "      <td>24.0</td>\n",
              "    </tr>\n",
              "    <tr>\n",
              "      <th>1</th>\n",
              "      <td>0.02731</td>\n",
              "      <td>0.0</td>\n",
              "      <td>7.07</td>\n",
              "      <td>0.0</td>\n",
              "      <td>0.469</td>\n",
              "      <td>6.421</td>\n",
              "      <td>78.9</td>\n",
              "      <td>4.9671</td>\n",
              "      <td>2.0</td>\n",
              "      <td>242.0</td>\n",
              "      <td>17.8</td>\n",
              "      <td>396.90</td>\n",
              "      <td>9.14</td>\n",
              "      <td>21.6</td>\n",
              "    </tr>\n",
              "    <tr>\n",
              "      <th>2</th>\n",
              "      <td>0.02729</td>\n",
              "      <td>0.0</td>\n",
              "      <td>7.07</td>\n",
              "      <td>0.0</td>\n",
              "      <td>0.469</td>\n",
              "      <td>7.185</td>\n",
              "      <td>61.1</td>\n",
              "      <td>4.9671</td>\n",
              "      <td>2.0</td>\n",
              "      <td>242.0</td>\n",
              "      <td>17.8</td>\n",
              "      <td>392.83</td>\n",
              "      <td>4.03</td>\n",
              "      <td>34.7</td>\n",
              "    </tr>\n",
              "    <tr>\n",
              "      <th>3</th>\n",
              "      <td>0.03237</td>\n",
              "      <td>0.0</td>\n",
              "      <td>2.18</td>\n",
              "      <td>0.0</td>\n",
              "      <td>0.458</td>\n",
              "      <td>6.998</td>\n",
              "      <td>45.8</td>\n",
              "      <td>6.0622</td>\n",
              "      <td>3.0</td>\n",
              "      <td>222.0</td>\n",
              "      <td>18.7</td>\n",
              "      <td>394.63</td>\n",
              "      <td>2.94</td>\n",
              "      <td>33.4</td>\n",
              "    </tr>\n",
              "    <tr>\n",
              "      <th>4</th>\n",
              "      <td>0.06905</td>\n",
              "      <td>0.0</td>\n",
              "      <td>2.18</td>\n",
              "      <td>0.0</td>\n",
              "      <td>0.458</td>\n",
              "      <td>7.147</td>\n",
              "      <td>54.2</td>\n",
              "      <td>6.0622</td>\n",
              "      <td>3.0</td>\n",
              "      <td>222.0</td>\n",
              "      <td>18.7</td>\n",
              "      <td>396.90</td>\n",
              "      <td>5.33</td>\n",
              "      <td>36.2</td>\n",
              "    </tr>\n",
              "  </tbody>\n",
              "</table>\n",
              "</div>"
            ],
            "text/plain": [
              "      CRIM    ZN  INDUS  CHAS    NOX  ...    TAX  PTRATIO       B  LSTAT  target\n",
              "0  0.00632  18.0   2.31   0.0  0.538  ...  296.0     15.3  396.90   4.98    24.0\n",
              "1  0.02731   0.0   7.07   0.0  0.469  ...  242.0     17.8  396.90   9.14    21.6\n",
              "2  0.02729   0.0   7.07   0.0  0.469  ...  242.0     17.8  392.83   4.03    34.7\n",
              "3  0.03237   0.0   2.18   0.0  0.458  ...  222.0     18.7  394.63   2.94    33.4\n",
              "4  0.06905   0.0   2.18   0.0  0.458  ...  222.0     18.7  396.90   5.33    36.2\n",
              "\n",
              "[5 rows x 14 columns]"
            ]
          },
          "execution_count": 4,
          "metadata": {
            "tags": []
          },
          "output_type": "execute_result"
        }
      ],
      "source": [
        "data.head() "
      ]
    },
    {
      "cell_type": "markdown",
      "metadata": {
        "id": "UqSYZZH6Bwfh"
      },
      "source": [
        "**Note:** You do not need to standardize data for this question. "
      ]
    },
    {
      "cell_type": "markdown",
      "metadata": {
        "id": "orhex-OXhkgV"
      },
      "source": [
        "\n",
        "**TODO 1**\n",
        "\n",
        "Prevent collinearity by removing linearly dependent variables. \n",
        "\n",
        "For example, if 2 variables A and B have a correlation coefficient larger than 0.9, eliminate one to avoid redundency."
      ]
    },
    {
      "cell_type": "code",
      "execution_count": null,
      "metadata": {
        "id": "HciIg1g4jE_a"
      },
      "outputs": [],
      "source": []
    },
    {
      "cell_type": "markdown",
      "metadata": {
        "id": "kARkGcfnjCF8"
      },
      "source": [
        "\n",
        "**TODO 2**\n",
        "\n",
        "Partition the data into 75% training and 25% validation set."
      ]
    },
    {
      "cell_type": "code",
      "execution_count": null,
      "metadata": {
        "id": "FxBLE5pzOe1q"
      },
      "outputs": [],
      "source": []
    },
    {
      "cell_type": "markdown",
      "metadata": {
        "id": "fJqs4RnZjd-n"
      },
      "source": [
        "\n",
        "**TODO 3**\n",
        "\n",
        "If we fit a linear regression model on the training set, what will be the feature weights? \n",
        "\n",
        "Calculate the feature weights using the matrix form (do not use any built-in packages such as sklearn or stat models)."
      ]
    },
    {
      "cell_type": "code",
      "execution_count": null,
      "metadata": {
        "id": "yTkjKMyXkP5C"
      },
      "outputs": [],
      "source": []
    },
    {
      "cell_type": "markdown",
      "metadata": {
        "id": "tOKKKL7OkSJk"
      },
      "source": [
        "\n",
        "**TODO 4**\n",
        "\n",
        "Now only consider two input variables: Age and RM.\n",
        "\n",
        "Fit a linear regression model on the training set with a package at your choice. \n",
        "\n",
        "Present the model summary. We call this model **Model 1**."
      ]
    },
    {
      "cell_type": "code",
      "execution_count": null,
      "metadata": {
        "id": "mb9lrptHlXZx"
      },
      "outputs": [],
      "source": []
    },
    {
      "cell_type": "markdown",
      "metadata": {
        "id": "b_JTWrEDlFPU"
      },
      "source": [
        "\n",
        "**TODO 5**\n",
        "\n",
        "Evaluate the prediction performance of Model 1 on the validation set with RMSE and MAE as performance matrics."
      ]
    },
    {
      "cell_type": "code",
      "execution_count": null,
      "metadata": {
        "id": "716o2-CflX_1"
      },
      "outputs": [],
      "source": []
    },
    {
      "cell_type": "markdown",
      "metadata": {
        "id": "-SVtXdBBlaF4"
      },
      "source": [
        "\n",
        "**TODO 6**\n",
        "\n",
        "Now consider all the features (after removing linearly dependent variables (post completion of TODO1)). \n",
        "\n",
        "Fit a linear regression model on the training set with a package at your choice. Present the model summary. \n",
        "\n",
        "We call this model **Model 2**."
      ]
    },
    {
      "cell_type": "code",
      "execution_count": null,
      "metadata": {
        "id": "IQsEcHVNl9Rj"
      },
      "outputs": [],
      "source": []
    },
    {
      "cell_type": "markdown",
      "metadata": {
        "id": "eqscMSkwl8wU"
      },
      "source": [
        "\n",
        "**TODO 7**\n",
        "\n",
        "Evaluate the prediction performance of Model 2 on the validation set with RMSE and MAE as performance matrics."
      ]
    },
    {
      "cell_type": "code",
      "execution_count": null,
      "metadata": {
        "id": "q2dbIQ1NmDzh"
      },
      "outputs": [],
      "source": []
    },
    {
      "cell_type": "markdown",
      "metadata": {
        "id": "2ZO2elK5mFtp"
      },
      "source": [
        "\n",
        "**TODO 8**\n",
        "\n",
        "Compare the performance of Model 1 and Model 2. \n",
        "\n",
        "Visualize the prediction error of both models using histogram. \n",
        "\n",
        "Comment on the model fitting."
      ]
    },
    {
      "cell_type": "code",
      "execution_count": null,
      "metadata": {
        "id": "XtK5KSL5mUY1"
      },
      "outputs": [],
      "source": []
    },
    {
      "cell_type": "markdown",
      "metadata": {
        "id": "mh3dkbjAmd9H"
      },
      "source": [
        "\n",
        "**TODO 9**\n",
        "\n",
        "Now consider all the features (after removing linearly dependent variables). \n",
        "\n",
        "The goal is to fit a LASSO linear regression model on the training set with a package at your choice. \n",
        "\n",
        "Compare the model performance of lambda in the range of [0,1] with the step of 0.01.\n",
        "\n",
        "Plot RMSE versus log(lambda).\n",
        "\n",
        "Pick the appropriate lambda value according to the plot.\n",
        "\n",
        "Present the model summary with the selected lambda. We call this model **Model 3**."
      ]
    },
    {
      "cell_type": "code",
      "execution_count": null,
      "metadata": {
        "id": "8iKTKHaomrJL"
      },
      "outputs": [],
      "source": []
    },
    {
      "cell_type": "markdown",
      "metadata": {
        "id": "awGm3NPRmsjN"
      },
      "source": [
        "\n",
        "**TODO 10**\n",
        "\n",
        "Evaluate the prediction performance of Model 3 on the validation set with RMSE and MAE as performance matrics."
      ]
    },
    {
      "cell_type": "code",
      "execution_count": null,
      "metadata": {
        "id": "M3iFpmebmxDz"
      },
      "outputs": [],
      "source": []
    },
    {
      "cell_type": "markdown",
      "metadata": {
        "id": "OolmJkPgmzet"
      },
      "source": [
        "\n",
        "**TODO 11**\n",
        "\n",
        "Among Model 1, 2, and 3, which one would be your pick for future implementation? State your reasons."
      ]
    },
    {
      "cell_type": "code",
      "execution_count": null,
      "metadata": {
        "id": "UQbxD3linDY4"
      },
      "outputs": [],
      "source": []
    },
    {
      "cell_type": "markdown",
      "source": [
        "### Problem 2"
      ],
      "metadata": {
        "id": "wikS7XK7Z1ZU"
      }
    },
    {
      "cell_type": "markdown",
      "source": [
        "**About the data:** <br>\n",
        "The advertising dataset includes advertising expenditure and sales of a product in 200 distinct markets.\n",
        "The columns are as follows:\n",
        "\n",
        "*   TV: Advertising expenditure of product in Television sector \n",
        "*   Newpaper: Advertising expenditure of product in Newspaper sector\n",
        "*   Sales: Sales of the product\n",
        "\n",
        "\n",
        "The goal is to predict the sales of the product based on the advertising expenditure in the two sectors.\n",
        "\n",
        "\n",
        "\n",
        "\n",
        "\n",
        "\n",
        "\n",
        "\n"
      ],
      "metadata": {
        "id": "Gi7euZebQLi-"
      }
    },
    {
      "cell_type": "markdown",
      "source": [
        "#### Using Sklearn"
      ],
      "metadata": {
        "id": "B2u-hAGN_sUV"
      }
    },
    {
      "cell_type": "markdown",
      "source": [
        "Import Advertising.csv data <br>\n",
        "(Sales column is the target variable)"
      ],
      "metadata": {
        "id": "5L41g8p3-POo"
      }
    },
    {
      "cell_type": "code",
      "source": [
        "df = pd.read_csv('advertising.csv')"
      ],
      "metadata": {
        "id": "nxAD7X2w8aqv"
      },
      "execution_count": null,
      "outputs": []
    },
    {
      "cell_type": "markdown",
      "source": [
        "**Todo 1:** Fit the data in a linear regression model using sklearn\n"
      ],
      "metadata": {
        "id": "L9Y7ija09sn4"
      }
    },
    {
      "cell_type": "code",
      "source": [],
      "metadata": {
        "id": "ptloBUvyV0Dl"
      },
      "execution_count": null,
      "outputs": []
    },
    {
      "cell_type": "markdown",
      "source": [
        "**Todo 2:** \n",
        "Predict the sales values from the above fitted model <br>\n",
        "Calculate Mean Absolute Error, Mean Squared Error, Root Mean Squared Error and R Squared Score"
      ],
      "metadata": {
        "id": "YhGyM4BY_JeK"
      }
    },
    {
      "cell_type": "code",
      "source": [],
      "metadata": {
        "id": "vRcsj-WFV2Hs"
      },
      "execution_count": null,
      "outputs": []
    },
    {
      "cell_type": "markdown",
      "source": [
        "**Todo 3**: Plot the Actual and Predicted values. Provide interpretations for the visualization"
      ],
      "metadata": {
        "id": "ssIyEwvXAHlW"
      }
    },
    {
      "cell_type": "code",
      "source": [],
      "metadata": {
        "id": "Lrx2-bZwV5WC"
      },
      "execution_count": null,
      "outputs": []
    },
    {
      "cell_type": "markdown",
      "source": [
        "**Todo 4:** Plot a 3D visualization for the dataset given. The plane of the 3D plot should represent the line equation and the actual values are scattered across the plot"
      ],
      "metadata": {
        "id": "LKP956FUS7eq"
      }
    },
    {
      "cell_type": "code",
      "source": [],
      "metadata": {
        "id": "E_Xfj8TmV-RZ"
      },
      "execution_count": null,
      "outputs": []
    },
    {
      "cell_type": "markdown",
      "source": [
        "#### Using Matrix Multiplication"
      ],
      "metadata": {
        "id": "wbw0DBR4AXXt"
      }
    },
    {
      "cell_type": "markdown",
      "source": [
        "##### Without Bias (excluding B0)"
      ],
      "metadata": {
        "id": "TgKnY_zDDrIm"
      }
    },
    {
      "cell_type": "markdown",
      "source": [
        "Import Advertsing.csv <br>\n",
        "(Sales column is the target variable)"
      ],
      "metadata": {
        "id": "y5GQRCzsB3Ml"
      }
    },
    {
      "cell_type": "code",
      "source": [
        "df = pd.read_csv('advertising.csv')"
      ],
      "metadata": {
        "id": "2dECNbG-B21G"
      },
      "execution_count": null,
      "outputs": []
    },
    {
      "cell_type": "markdown",
      "source": [
        "**Todo 1:** Use matrix multiplication to calculate the coefficients of the linear regression model\n"
      ],
      "metadata": {
        "id": "zXr8sjIkEz1C"
      }
    },
    {
      "cell_type": "code",
      "source": [],
      "metadata": {
        "id": "FsAyHJOKWAA_"
      },
      "execution_count": null,
      "outputs": []
    },
    {
      "cell_type": "markdown",
      "source": [
        "**Todo 2**: Predict the sales values from the above coefficients calculated. <br>\n",
        "Calculate Mean Absolute Error, Mean Squared Error, Root Mean Squared Error and R Squared Score with the predicted values to the actual values given in the csv."
      ],
      "metadata": {
        "id": "yPsMr7R0FFju"
      }
    },
    {
      "cell_type": "code",
      "source": [],
      "metadata": {
        "id": "TpV--AzFWC4L"
      },
      "execution_count": null,
      "outputs": []
    },
    {
      "cell_type": "markdown",
      "source": [
        "**Todo 3:** Plot the Actual and Predicted values. Provide interpretations for the visualization"
      ],
      "metadata": {
        "id": "0-O3jgPAFPcU"
      }
    },
    {
      "cell_type": "code",
      "source": [],
      "metadata": {
        "id": "eUqNlg9RWF64"
      },
      "execution_count": null,
      "outputs": []
    },
    {
      "cell_type": "markdown",
      "source": [
        "##### With Bias (including B0)"
      ],
      "metadata": {
        "id": "N80FM7JRDbBg"
      }
    },
    {
      "cell_type": "markdown",
      "source": [
        "**Todo 1:** Use matrix multiplication to calculate the coefficients of the linear regression model with bias\n"
      ],
      "metadata": {
        "id": "-RWN62GMFdtM"
      }
    },
    {
      "cell_type": "code",
      "source": [],
      "metadata": {
        "id": "dwSOA_72WIpW"
      },
      "execution_count": null,
      "outputs": []
    },
    {
      "cell_type": "markdown",
      "source": [
        "**Todo 2**: \n",
        "\n",
        "Predict the sales values from the above coefficients calculated. <br>\n",
        "Calculate Mean Absolute Error, Mean Squared Error, Root Mean Squared Error and R Squared Score with the predicted values to the actual values given in the csv."
      ],
      "metadata": {
        "id": "W59mWkhfFsAz"
      }
    },
    {
      "cell_type": "code",
      "source": [],
      "metadata": {
        "id": "jR-Air74WKHO"
      },
      "execution_count": null,
      "outputs": []
    },
    {
      "cell_type": "markdown",
      "source": [
        "**Todo 3**: Plot the Actual and Predicted values. Provide interpretations for the visualization"
      ],
      "metadata": {
        "id": "drq2YypaF0Mg"
      }
    },
    {
      "cell_type": "code",
      "source": [],
      "metadata": {
        "id": "G7smgtwQWMQJ"
      },
      "execution_count": null,
      "outputs": []
    },
    {
      "cell_type": "markdown",
      "source": [
        "**Todo 4**: Compare and interpret results of with and without bias."
      ],
      "metadata": {
        "id": "Pl6obbtiEdN-"
      }
    },
    {
      "cell_type": "code",
      "source": [],
      "metadata": {
        "id": "SjFenP14Eh69"
      },
      "execution_count": null,
      "outputs": []
    },
    {
      "cell_type": "markdown",
      "source": [
        "**Todo 5**: Do you notice any difference between the model evaluated with bias and sklearn model."
      ],
      "metadata": {
        "id": "xihWVCgWJ8OK"
      }
    },
    {
      "cell_type": "code",
      "source": [],
      "metadata": {
        "id": "dGNYbNPaVbWq"
      },
      "execution_count": null,
      "outputs": []
    },
    {
      "cell_type": "markdown",
      "source": [
        "#Problem 3 - Forward Selection"
      ],
      "metadata": {
        "id": "Mqv9-w_zCvvg"
      }
    },
    {
      "cell_type": "markdown",
      "source": [
        "Using the abalone csv file, implement the forward selection.\n",
        "\n",
        "For performance evaluation, use adjusted R squared."
      ],
      "metadata": {
        "id": "bMXABEJtQiE5"
      }
    },
    {
      "cell_type": "markdown",
      "source": [
        "**Dataset:**\n",
        "abalone.csv\n",
        "\n",
        "**Attribute Information:**\n",
        "Given is the attribute name, attribute type, the measurement unit, and a brief description. \n",
        "\n",
        "Name / Data Type / Measurement Unit / Description \n",
        "\n",
        "Length / continuous / mm / Longest shell measurement \n",
        "\n",
        "Diameter / continuous / mm / perpendicular to length \n",
        "\n",
        "Height / continuous / mm / with meat in shell \n",
        "\n",
        "Whole weight / continuous / grams / whole abalone \n",
        "\n",
        "Shucked weight / continuous / grams / weight of meat \n",
        "\n",
        "Viscera weight / continuous / grams / gut weight (after bleeding) \n",
        "\n",
        "Shell weight / continuous / grams / after being dried \n",
        "\n",
        "Rings / integer / -- / +1.5 gives the age in years\n",
        "\n",
        "**The target variable is Rings. The rest are predictors.**"
      ],
      "metadata": {
        "id": "fBdxwqifY77y"
      }
    },
    {
      "cell_type": "markdown",
      "source": [
        "**TODO 1:**\n",
        "Load the csv file and split the data into train and test with 70:30 ratio.\n"
      ],
      "metadata": {
        "id": "R2YCvO_sYM-G"
      }
    },
    {
      "cell_type": "code",
      "source": [],
      "metadata": {
        "id": "VMuk996dYcUn"
      },
      "execution_count": null,
      "outputs": []
    },
    {
      "cell_type": "markdown",
      "source": [
        "**TODO 2:**\n",
        "Choosing the first variable.\n",
        "\n",
        "Write a function with inputs as variables, builds a linear regression model (use sklearn) and returns the adjusted R squared score. \n",
        "\n",
        "1. From the 6 variables present, select one variable each time and build a linear regression model (using the above function that you have built). \n",
        "\n",
        "2. Compare the model performance by adjusted R square. Present your results in a tabular form with vairable and the R squared value.\n",
        "\n",
        "3. Select the winning model."
      ],
      "metadata": {
        "id": "KH1MSDUgRi5V"
      }
    },
    {
      "cell_type": "code",
      "execution_count": null,
      "metadata": {
        "id": "o3vHFDhjCpT7"
      },
      "outputs": [],
      "source": []
    },
    {
      "cell_type": "markdown",
      "source": [
        "**TODO 3:**\n",
        "Choosing the second variable\n",
        "1. Using the variable from the winning model, find the second best variable with the possible combinations.\n",
        "\n",
        "2. compare the model performance and present your results in a tabular form.\n",
        "\n",
        "3. select the winning model."
      ],
      "metadata": {
        "id": "MNTfua2sT2nd"
      }
    },
    {
      "cell_type": "code",
      "source": [],
      "metadata": {
        "id": "yrjWnutzVmqZ"
      },
      "execution_count": null,
      "outputs": []
    },
    {
      "cell_type": "markdown",
      "source": [
        "**Todo 4:** What are the 2 variables selected"
      ],
      "metadata": {
        "id": "HAS8isG4bC7j"
      }
    },
    {
      "cell_type": "markdown",
      "source": [],
      "metadata": {
        "id": "pq9f_9CweSuZ"
      }
    },
    {
      "cell_type": "code",
      "source": [
        "git remote add origin https://github.com/shreyapande1/HW4.git\n",
        "git branch -M main\n",
        "git push -u origin main"
      ],
      "metadata": {
        "id": "QH64-6v-gBFN",
        "outputId": "ed8999d8-82db-4441-e501-403ecd385f9a",
        "colab": {
          "base_uri": "https://localhost:8080/",
          "height": 130
        }
      },
      "execution_count": 2,
      "outputs": [
        {
          "output_type": "error",
          "ename": "SyntaxError",
          "evalue": "ignored",
          "traceback": [
            "\u001b[0;36m  File \u001b[0;32m\"<ipython-input-2-6203be23e4d8>\"\u001b[0;36m, line \u001b[0;32m1\u001b[0m\n\u001b[0;31m    git remote add origin https://github.com/shreyapande1/HW4.git\u001b[0m\n\u001b[0m        ^\u001b[0m\n\u001b[0;31mSyntaxError\u001b[0m\u001b[0;31m:\u001b[0m invalid syntax\n"
          ]
        }
      ]
    },
    {
      "cell_type": "code",
      "source": [],
      "metadata": {
        "id": "LxTA3MN-gBBy"
      },
      "execution_count": null,
      "outputs": []
    }
  ],
  "metadata": {
    "colab": {
      "provenance": [],
      "include_colab_link": true
    },
    "kernelspec": {
      "display_name": "Python 3",
      "language": "python",
      "name": "python3"
    },
    "language_info": {
      "codemirror_mode": {
        "name": "ipython",
        "version": 3
      },
      "file_extension": ".py",
      "mimetype": "text/x-python",
      "name": "python",
      "nbconvert_exporter": "python",
      "pygments_lexer": "ipython3",
      "version": "3.8.5"
    }
  },
  "nbformat": 4,
  "nbformat_minor": 0
}